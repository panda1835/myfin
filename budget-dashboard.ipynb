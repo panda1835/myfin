{
 "cells": [
  {
   "cell_type": "code",
   "execution_count": 1,
   "id": "bab89210",
   "metadata": {},
   "outputs": [
    {
     "name": "stderr",
     "output_type": "stream",
     "text": [
      "/Users/phucle/miniconda3/envs/budget-dashboard/lib/python3.9/site-packages/dash_bootstrap_components/_table.py:5: UserWarning: \n",
      "The dash_html_components package is deprecated. Please replace\n",
      "`import dash_html_components as html` with `from dash import html`\n",
      "  import dash_html_components as html\n"
     ]
    }
   ],
   "source": [
    "import pandas as pd                       #to perform data manipulation and analysis\n",
    "import numpy as np                        #to cleanse data\n",
    "from datetime import datetime             #to manipulate dates\n",
    "import plotly.express as px               #to create interactive charts\n",
    "import plotly.graph_objects as go         #to create interactive charts\n",
    "from jupyter_dash import JupyterDash      #to build Dash apps from Jupyter environments\n",
    "from dash import dcc        #to get components for interactive user interfaces\n",
    "from dash import html       #to compose the dash layout using Python structures\n",
    "import dash_bootstrap_components as dbc\n",
    "from dash.dependencies import Input, Output, State\n",
    "import datetime\n",
    "from dash import dash_table\n",
    "import json\n",
    "import calendar"
   ]
  },
  {
   "cell_type": "code",
   "execution_count": 2,
   "id": "8f63ed94",
   "metadata": {},
   "outputs": [],
   "source": [
    "# read constant\n",
    "with open('data.json','r') as f:\n",
    "    data = json.load(f)\n",
    "    NECESSITY_MONEY = data['constant']['MONEY_ALLOCATED_FOR_NECESSITY_PER_MONTH']\n",
    "    EDUCATION_AND_ENTERTAINMET = data['constant']['MONEY_ALLOCATED_FOR_EDUCATION_AND_ENTERTAINMENT_PER_MONTH']\n",
    "    "
   ]
  },
  {
   "cell_type": "code",
   "execution_count": 3,
   "id": "7e79e153",
   "metadata": {},
   "outputs": [],
   "source": [
    "# read info page\n",
    "with open('info_page.md', 'r') as f:\n",
    "    info_content = f.read()"
   ]
  },
  {
   "cell_type": "code",
   "execution_count": 4,
   "id": "80a9def1",
   "metadata": {},
   "outputs": [],
   "source": [
    "# declare today\n",
    "today_date = datetime.datetime.now().strftime(\"%d\").zfill(2)\n",
    "today_month = datetime.datetime.now().strftime(\"%m\").zfill(2)\n",
    "today_month_EN = datetime.datetime.now().strftime(\"%B\")\n",
    "today_year = datetime.datetime.now().strftime(\"%Y\")"
   ]
  },
  {
   "cell_type": "code",
   "execution_count": 5,
   "id": "7147aca4",
   "metadata": {},
   "outputs": [],
   "source": [
    "database_name = 'Transaction.csv'"
   ]
  },
  {
   "cell_type": "code",
   "execution_count": 6,
   "id": "bd57da6a",
   "metadata": {},
   "outputs": [],
   "source": [
    "# !bash bal_to_csv.sh \"01/01\" \"11/01\"\n",
    "# df = pd.read_csv(database_name)\n",
    "\n",
    "# # remove '?' column\n",
    "# df.drop(columns=['?'], inplace=True)\n",
    "# df.drop(columns=['pending/cleared'], inplace=True)\n",
    "\n",
    "\n",
    "# # seprarate account into categories\n",
    "# transaction_type = []\n",
    "# category = []\n",
    "# sub_category = [] \n",
    "\n",
    "# for i in df['account']:\n",
    "#     transaction_type.append(i.split(':')[0])    \n",
    "#     category.append(i.split(':')[1])\n",
    "#     try:\n",
    "#         sub_category.append(i.split(':')[2])\n",
    "#     except:\n",
    "#         print(i)\n",
    "\n",
    "# df['transaction_type'] = transaction_type\n",
    "# df['category'] = category\n",
    "# df['sub_category'] = sub_category"
   ]
  },
  {
   "cell_type": "code",
   "execution_count": 7,
   "id": "a14eab83",
   "metadata": {},
   "outputs": [
    {
     "data": {
      "text/html": [
       "<div>\n",
       "<style scoped>\n",
       "    .dataframe tbody tr th:only-of-type {\n",
       "        vertical-align: middle;\n",
       "    }\n",
       "\n",
       "    .dataframe tbody tr th {\n",
       "        vertical-align: top;\n",
       "    }\n",
       "\n",
       "    .dataframe thead th {\n",
       "        text-align: right;\n",
       "    }\n",
       "</style>\n",
       "<table border=\"1\" class=\"dataframe\">\n",
       "  <thead>\n",
       "    <tr style=\"text-align: right;\">\n",
       "      <th></th>\n",
       "      <th>Unnamed: 0</th>\n",
       "      <th>date</th>\n",
       "      <th>date_of_week</th>\n",
       "      <th>transaction_type</th>\n",
       "      <th>category</th>\n",
       "      <th>sub_category</th>\n",
       "      <th>amount</th>\n",
       "      <th>currency</th>\n",
       "      <th>note</th>\n",
       "      <th>Date</th>\n",
       "      <th>year_month</th>\n",
       "    </tr>\n",
       "  </thead>\n",
       "  <tbody>\n",
       "    <tr>\n",
       "      <th>0</th>\n",
       "      <td>0.0</td>\n",
       "      <td>2021-01-01</td>\n",
       "      <td>Friday</td>\n",
       "      <td>Assets</td>\n",
       "      <td>Wallet</td>\n",
       "      <td>Cash</td>\n",
       "      <td>588200</td>\n",
       "      <td>VND</td>\n",
       "      <td>Lots of money track loss</td>\n",
       "      <td>2021-01-01</td>\n",
       "      <td>2021-01</td>\n",
       "    </tr>\n",
       "    <tr>\n",
       "      <th>1</th>\n",
       "      <td>1.0</td>\n",
       "      <td>2021-01-01</td>\n",
       "      <td>Friday</td>\n",
       "      <td>Assets</td>\n",
       "      <td>Card</td>\n",
       "      <td>VISA</td>\n",
       "      <td>621577</td>\n",
       "      <td>VND</td>\n",
       "      <td>Lots of money track loss</td>\n",
       "      <td>2021-01-01</td>\n",
       "      <td>2021-01</td>\n",
       "    </tr>\n",
       "    <tr>\n",
       "      <th>2</th>\n",
       "      <td>2.0</td>\n",
       "      <td>2021-01-01</td>\n",
       "      <td>Friday</td>\n",
       "      <td>Assets</td>\n",
       "      <td>Card</td>\n",
       "      <td>ACB</td>\n",
       "      <td>7290227</td>\n",
       "      <td>VND</td>\n",
       "      <td>Lots of money track loss</td>\n",
       "      <td>2021-01-01</td>\n",
       "      <td>2021-01</td>\n",
       "    </tr>\n",
       "    <tr>\n",
       "      <th>3</th>\n",
       "      <td>3.0</td>\n",
       "      <td>2021-01-01</td>\n",
       "      <td>Friday</td>\n",
       "      <td>Assets</td>\n",
       "      <td>eWallet</td>\n",
       "      <td>MOCA</td>\n",
       "      <td>2500</td>\n",
       "      <td>VND</td>\n",
       "      <td>Lots of money track loss</td>\n",
       "      <td>2021-01-01</td>\n",
       "      <td>2021-01</td>\n",
       "    </tr>\n",
       "    <tr>\n",
       "      <th>4</th>\n",
       "      <td>4.0</td>\n",
       "      <td>2021-01-01</td>\n",
       "      <td>Friday</td>\n",
       "      <td>Equity</td>\n",
       "      <td>Balance</td>\n",
       "      <td>Opening Balances</td>\n",
       "      <td>-8502504</td>\n",
       "      <td>VND</td>\n",
       "      <td>Lots of money track loss</td>\n",
       "      <td>2021-01-01</td>\n",
       "      <td>2021-01</td>\n",
       "    </tr>\n",
       "    <tr>\n",
       "      <th>...</th>\n",
       "      <td>...</td>\n",
       "      <td>...</td>\n",
       "      <td>...</td>\n",
       "      <td>...</td>\n",
       "      <td>...</td>\n",
       "      <td>...</td>\n",
       "      <td>...</td>\n",
       "      <td>...</td>\n",
       "      <td>...</td>\n",
       "      <td>...</td>\n",
       "      <td>...</td>\n",
       "    </tr>\n",
       "    <tr>\n",
       "      <th>743</th>\n",
       "      <td>NaN</td>\n",
       "      <td>2021-10-15</td>\n",
       "      <td>Friday</td>\n",
       "      <td>Expenses</td>\n",
       "      <td>Food</td>\n",
       "      <td>Delivery</td>\n",
       "      <td>55000</td>\n",
       "      <td>VND</td>\n",
       "      <td>NaN</td>\n",
       "      <td>2021-10-15</td>\n",
       "      <td>2021-10</td>\n",
       "    </tr>\n",
       "    <tr>\n",
       "      <th>744</th>\n",
       "      <td>NaN</td>\n",
       "      <td>2021-10-15</td>\n",
       "      <td>Friday</td>\n",
       "      <td>Expenses</td>\n",
       "      <td>Food</td>\n",
       "      <td>Breakfast</td>\n",
       "      <td>20000</td>\n",
       "      <td>VND</td>\n",
       "      <td>NaN</td>\n",
       "      <td>2021-10-15</td>\n",
       "      <td>2021-10</td>\n",
       "    </tr>\n",
       "    <tr>\n",
       "      <th>745</th>\n",
       "      <td>NaN</td>\n",
       "      <td>2021-10-15</td>\n",
       "      <td>Friday</td>\n",
       "      <td>Assets</td>\n",
       "      <td>eWallet</td>\n",
       "      <td>MOCA</td>\n",
       "      <td>-55000</td>\n",
       "      <td>VND</td>\n",
       "      <td>NaN</td>\n",
       "      <td>2021-10-15</td>\n",
       "      <td>2021-10</td>\n",
       "    </tr>\n",
       "    <tr>\n",
       "      <th>746</th>\n",
       "      <td>NaN</td>\n",
       "      <td>2021-10-15</td>\n",
       "      <td>Friday</td>\n",
       "      <td>Expenses</td>\n",
       "      <td>Drink</td>\n",
       "      <td>Soda</td>\n",
       "      <td>12000</td>\n",
       "      <td>VND</td>\n",
       "      <td>NaN</td>\n",
       "      <td>2021-10-15</td>\n",
       "      <td>2021-10</td>\n",
       "    </tr>\n",
       "    <tr>\n",
       "      <th>747</th>\n",
       "      <td>NaN</td>\n",
       "      <td>2021-10-15</td>\n",
       "      <td>Friday</td>\n",
       "      <td>Assets</td>\n",
       "      <td>Wallet</td>\n",
       "      <td>Cash</td>\n",
       "      <td>-20000</td>\n",
       "      <td>VND</td>\n",
       "      <td>NaN</td>\n",
       "      <td>2021-10-15</td>\n",
       "      <td>2021-10</td>\n",
       "    </tr>\n",
       "  </tbody>\n",
       "</table>\n",
       "<p>748 rows × 11 columns</p>\n",
       "</div>"
      ],
      "text/plain": [
       "     Unnamed: 0        date date_of_week transaction_type category  \\\n",
       "0           0.0  2021-01-01       Friday           Assets   Wallet   \n",
       "1           1.0  2021-01-01       Friday           Assets     Card   \n",
       "2           2.0  2021-01-01       Friday           Assets     Card   \n",
       "3           3.0  2021-01-01       Friday           Assets  eWallet   \n",
       "4           4.0  2021-01-01       Friday           Equity  Balance   \n",
       "..          ...         ...          ...              ...      ...   \n",
       "743         NaN  2021-10-15       Friday         Expenses     Food   \n",
       "744         NaN  2021-10-15       Friday         Expenses     Food   \n",
       "745         NaN  2021-10-15       Friday           Assets  eWallet   \n",
       "746         NaN  2021-10-15       Friday         Expenses    Drink   \n",
       "747         NaN  2021-10-15       Friday           Assets   Wallet   \n",
       "\n",
       "         sub_category   amount currency                       note  \\\n",
       "0                Cash   588200      VND   Lots of money track loss   \n",
       "1                VISA   621577      VND   Lots of money track loss   \n",
       "2                 ACB  7290227      VND   Lots of money track loss   \n",
       "3                MOCA     2500      VND   Lots of money track loss   \n",
       "4    Opening Balances -8502504      VND   Lots of money track loss   \n",
       "..                ...      ...      ...                        ...   \n",
       "743          Delivery    55000      VND                        NaN   \n",
       "744         Breakfast    20000      VND                        NaN   \n",
       "745              MOCA   -55000      VND                        NaN   \n",
       "746              Soda    12000      VND                        NaN   \n",
       "747              Cash   -20000      VND                        NaN   \n",
       "\n",
       "           Date year_month  \n",
       "0    2021-01-01    2021-01  \n",
       "1    2021-01-01    2021-01  \n",
       "2    2021-01-01    2021-01  \n",
       "3    2021-01-01    2021-01  \n",
       "4    2021-01-01    2021-01  \n",
       "..          ...        ...  \n",
       "743  2021-10-15    2021-10  \n",
       "744  2021-10-15    2021-10  \n",
       "745  2021-10-15    2021-10  \n",
       "746  2021-10-15    2021-10  \n",
       "747  2021-10-15    2021-10  \n",
       "\n",
       "[748 rows x 11 columns]"
      ]
     },
     "execution_count": 7,
     "metadata": {},
     "output_type": "execute_result"
    }
   ],
   "source": [
    "df = pd.read_csv(database_name)\n",
    "\n",
    "# add month column\n",
    "df['date'] = df['date'].str.replace('/', '-')\n",
    "df['year_month'] = pd.to_datetime(df['date']).dt.strftime('%Y-%m')\n",
    "\n",
    "# cast amount into int\n",
    "df['amount'].astype('int64')\n",
    "df"
   ]
  },
  {
   "cell_type": "code",
   "execution_count": 8,
   "id": "0e050130",
   "metadata": {},
   "outputs": [],
   "source": [
    "# declare first date in the df\n",
    "first_day_df = pd.to_datetime(df['date']).min()\n",
    "first_day_date = first_day_df.strftime(\"%d\")\n",
    "first_day_month = first_day_df.strftime(\"%m\")\n",
    "first_day_year = first_day_df.strftime(\"%Y\")\n",
    "first_day_df = first_day_df.strftime(\"%Y-%m-%d\")"
   ]
  },
  {
   "cell_type": "code",
   "execution_count": 9,
   "id": "6729ff11",
   "metadata": {},
   "outputs": [],
   "source": [
    "display_columns = ['date', \n",
    "                  'date_of_week', \n",
    "                  'transaction_type', \n",
    "                  'category', \n",
    "                  'sub_category',\n",
    "                  'amount', \n",
    "                  'currency', \n",
    "                  'note']"
   ]
  },
  {
   "cell_type": "code",
   "execution_count": 10,
   "id": "617e80ad",
   "metadata": {},
   "outputs": [
    {
     "data": {
      "text/plain": [
       "array(['Wallet', 'Card', 'eWallet', 'Balance', 'Food', 'Travel', 'Drink',\n",
       "       'Fulbright', 'Transportation', 'Education', 'Personal',\n",
       "       'Household Items', 'Part-time Jobs', 'Fees', 'Utility', 'Home',\n",
       "       'Entertainment', 'Fintech', 'Givings', 'Health', 'Internship',\n",
       "       'All'], dtype=object)"
      ]
     },
     "execution_count": 10,
     "metadata": {},
     "output_type": "execute_result"
    }
   ],
   "source": [
    "df['sub_category'].unique()\n",
    "df['date_of_week'].unique()\n",
    "df['category'].unique()"
   ]
  },
  {
   "cell_type": "code",
   "execution_count": 11,
   "id": "1bf8b0b4",
   "metadata": {},
   "outputs": [],
   "source": [
    "def money_in_visa_card():\n",
    "    return df[df['sub_category'] == 'VISA']['amount'].sum()\n",
    "\n",
    "def money_in_acb_card():\n",
    "    return df[df['sub_category'] == 'ACB']['amount'].sum()\n",
    "\n",
    "def money_in_finhay():\n",
    "    return df[df['sub_category'] == 'Finhay']['amount'].sum()\n",
    "\n",
    "def money_in_cash():\n",
    "    return df[df['sub_category'] == 'Cash']['amount'].sum()\n",
    "\n",
    "def money_in_home():\n",
    "    return df[df['sub_category'] == 'Home']['amount'].sum()\n",
    "\n",
    "def money_in_moca():\n",
    "    return df[df['sub_category'] == 'MOCA']['amount'].sum()"
   ]
  },
  {
   "cell_type": "code",
   "execution_count": 12,
   "id": "9903c06f",
   "metadata": {},
   "outputs": [],
   "source": [
    "def get_last_day_of_month(year, month):\n",
    "    return calendar.monthrange(year, month)[1]"
   ]
  },
  {
   "cell_type": "code",
   "execution_count": 13,
   "id": "ac1e1a42",
   "metadata": {},
   "outputs": [
    {
     "data": {
      "text/plain": [
       "0      2021-01-01\n",
       "1      2021-01-01\n",
       "2      2021-01-01\n",
       "3      2021-01-01\n",
       "4      2021-01-01\n",
       "          ...    \n",
       "743    2021-10-15\n",
       "744    2021-10-15\n",
       "745    2021-10-15\n",
       "746    2021-10-15\n",
       "747    2021-10-15\n",
       "Name: date, Length: 748, dtype: object"
      ]
     },
     "execution_count": 13,
     "metadata": {},
     "output_type": "execute_result"
    }
   ],
   "source": [
    "df['date']"
   ]
  },
  {
   "cell_type": "code",
   "execution_count": 14,
   "id": "94dc035f",
   "metadata": {},
   "outputs": [
    {
     "data": {
      "text/html": [
       "<div>\n",
       "<style scoped>\n",
       "    .dataframe tbody tr th:only-of-type {\n",
       "        vertical-align: middle;\n",
       "    }\n",
       "\n",
       "    .dataframe tbody tr th {\n",
       "        vertical-align: top;\n",
       "    }\n",
       "\n",
       "    .dataframe thead th {\n",
       "        text-align: right;\n",
       "    }\n",
       "</style>\n",
       "<table border=\"1\" class=\"dataframe\">\n",
       "  <thead>\n",
       "    <tr style=\"text-align: right;\">\n",
       "      <th></th>\n",
       "      <th>date</th>\n",
       "      <th>sum</th>\n",
       "    </tr>\n",
       "  </thead>\n",
       "  <tbody>\n",
       "    <tr>\n",
       "      <th>2021-01-01</th>\n",
       "      <td>2021-01-01</td>\n",
       "      <td>0</td>\n",
       "    </tr>\n",
       "    <tr>\n",
       "      <th>2021-01-02</th>\n",
       "      <td>2021-01-02</td>\n",
       "      <td>0</td>\n",
       "    </tr>\n",
       "    <tr>\n",
       "      <th>2021-01-03</th>\n",
       "      <td>2021-01-03</td>\n",
       "      <td>0</td>\n",
       "    </tr>\n",
       "    <tr>\n",
       "      <th>2021-01-04</th>\n",
       "      <td>2021-01-04</td>\n",
       "      <td>0</td>\n",
       "    </tr>\n",
       "    <tr>\n",
       "      <th>2021-01-05</th>\n",
       "      <td>2021-01-05</td>\n",
       "      <td>0</td>\n",
       "    </tr>\n",
       "    <tr>\n",
       "      <th>...</th>\n",
       "      <td>...</td>\n",
       "      <td>...</td>\n",
       "    </tr>\n",
       "    <tr>\n",
       "      <th>2021-09-28</th>\n",
       "      <td>2021-09-28</td>\n",
       "      <td>0</td>\n",
       "    </tr>\n",
       "    <tr>\n",
       "      <th>2021-09-29</th>\n",
       "      <td>2021-09-29</td>\n",
       "      <td>0</td>\n",
       "    </tr>\n",
       "    <tr>\n",
       "      <th>2021-09-30</th>\n",
       "      <td>2021-09-30</td>\n",
       "      <td>0</td>\n",
       "    </tr>\n",
       "    <tr>\n",
       "      <th>2021-10-01</th>\n",
       "      <td>2021-10-01</td>\n",
       "      <td>0</td>\n",
       "    </tr>\n",
       "    <tr>\n",
       "      <th>2021-10-02</th>\n",
       "      <td>2021-10-02</td>\n",
       "      <td>0</td>\n",
       "    </tr>\n",
       "  </tbody>\n",
       "</table>\n",
       "<p>275 rows × 2 columns</p>\n",
       "</div>"
      ],
      "text/plain": [
       "                 date  sum\n",
       "2021-01-01 2021-01-01    0\n",
       "2021-01-02 2021-01-02    0\n",
       "2021-01-03 2021-01-03    0\n",
       "2021-01-04 2021-01-04    0\n",
       "2021-01-05 2021-01-05    0\n",
       "...               ...  ...\n",
       "2021-09-28 2021-09-28    0\n",
       "2021-09-29 2021-09-29    0\n",
       "2021-09-30 2021-09-30    0\n",
       "2021-10-01 2021-10-01    0\n",
       "2021-10-02 2021-10-02    0\n",
       "\n",
       "[275 rows x 2 columns]"
      ]
     },
     "execution_count": 14,
     "metadata": {},
     "output_type": "execute_result"
    }
   ],
   "source": [
    "# fill in missing date\n",
    "def fill_in_missing_date(missing_df, start_date, end_date):\n",
    "    idx = pd.date_range(start_date, end_date)\n",
    "    \n",
    "    missing_df.index = pd.DatetimeIndex(missing_df['date'])\n",
    "        \n",
    "    missing_df = missing_df.reindex(idx, fill_value=0)\n",
    "    \n",
    "    missing_df['date'] = missing_df.index\n",
    "    return missing_df\n",
    "\n",
    "fill_in_missing_date(df.groupby('date')['amount'].sum().reset_index(name ='sum'), '2021-01-01', '2021-10-02')"
   ]
  },
  {
   "cell_type": "code",
   "execution_count": 15,
   "id": "40f7b673",
   "metadata": {},
   "outputs": [
    {
     "data": {
      "application/vnd.plotly.v1+json": {
       "config": {
        "plotlyServerURL": "https://plot.ly"
       },
       "data": [
        {
         "hovertemplate": "Date=%{x}<br>Remain=%{y}<extra></extra>",
         "legendgroup": "",
         "line": {
          "color": "#636efa"
         },
         "mode": "lines",
         "name": "",
         "orientation": "v",
         "showlegend": false,
         "stackgroup": "1",
         "type": "scatter",
         "x": [
          "2021-10-01T00:00:00",
          "2021-10-02T00:00:00",
          "2021-10-03T00:00:00",
          "2021-10-04T00:00:00",
          "2021-10-05T00:00:00",
          "2021-10-06T00:00:00",
          "2021-10-07T00:00:00",
          "2021-10-08T00:00:00",
          "2021-10-09T00:00:00",
          "2021-10-10T00:00:00",
          "2021-10-11T00:00:00",
          "2021-10-12T00:00:00",
          "2021-10-13T00:00:00",
          "2021-10-14T00:00:00",
          "2021-10-15T00:00:00",
          "2021-10-16T00:00:00",
          "2021-10-17T00:00:00",
          "2021-10-18T00:00:00",
          "2021-10-19T00:00:00",
          "2021-10-20T00:00:00",
          "2021-10-21T00:00:00",
          "2021-10-22T00:00:00",
          "2021-10-23T00:00:00",
          "2021-10-24T00:00:00",
          "2021-10-25T00:00:00",
          "2021-10-26T00:00:00",
          "2021-10-27T00:00:00",
          "2021-10-28T00:00:00",
          "2021-10-29T00:00:00",
          "2021-10-30T00:00:00",
          "2021-10-31T00:00:00"
         ],
         "xaxis": "x",
         "y": [
          2800000,
          2800000,
          2800000,
          2800000,
          2800000,
          2800000,
          2800000,
          2800000,
          2800000,
          2790000,
          2790000,
          2790000,
          2790000,
          2778000,
          2691000,
          2691000,
          2691000,
          2691000,
          2691000,
          2691000,
          2691000,
          2691000,
          2691000,
          2691000,
          2691000,
          2691000,
          2691000,
          2691000,
          2691000,
          2691000,
          2691000
         ],
         "yaxis": "y"
        }
       ],
       "layout": {
        "legend": {
         "tracegroupgap": 0
        },
        "margin": {
         "t": 60
        },
        "template": {
         "data": {
          "bar": [
           {
            "error_x": {
             "color": "#2a3f5f"
            },
            "error_y": {
             "color": "#2a3f5f"
            },
            "marker": {
             "line": {
              "color": "#E5ECF6",
              "width": 0.5
             },
             "pattern": {
              "fillmode": "overlay",
              "size": 10,
              "solidity": 0.2
             }
            },
            "type": "bar"
           }
          ],
          "barpolar": [
           {
            "marker": {
             "line": {
              "color": "#E5ECF6",
              "width": 0.5
             },
             "pattern": {
              "fillmode": "overlay",
              "size": 10,
              "solidity": 0.2
             }
            },
            "type": "barpolar"
           }
          ],
          "carpet": [
           {
            "aaxis": {
             "endlinecolor": "#2a3f5f",
             "gridcolor": "white",
             "linecolor": "white",
             "minorgridcolor": "white",
             "startlinecolor": "#2a3f5f"
            },
            "baxis": {
             "endlinecolor": "#2a3f5f",
             "gridcolor": "white",
             "linecolor": "white",
             "minorgridcolor": "white",
             "startlinecolor": "#2a3f5f"
            },
            "type": "carpet"
           }
          ],
          "choropleth": [
           {
            "colorbar": {
             "outlinewidth": 0,
             "ticks": ""
            },
            "type": "choropleth"
           }
          ],
          "contour": [
           {
            "colorbar": {
             "outlinewidth": 0,
             "ticks": ""
            },
            "colorscale": [
             [
              0,
              "#0d0887"
             ],
             [
              0.1111111111111111,
              "#46039f"
             ],
             [
              0.2222222222222222,
              "#7201a8"
             ],
             [
              0.3333333333333333,
              "#9c179e"
             ],
             [
              0.4444444444444444,
              "#bd3786"
             ],
             [
              0.5555555555555556,
              "#d8576b"
             ],
             [
              0.6666666666666666,
              "#ed7953"
             ],
             [
              0.7777777777777778,
              "#fb9f3a"
             ],
             [
              0.8888888888888888,
              "#fdca26"
             ],
             [
              1,
              "#f0f921"
             ]
            ],
            "type": "contour"
           }
          ],
          "contourcarpet": [
           {
            "colorbar": {
             "outlinewidth": 0,
             "ticks": ""
            },
            "type": "contourcarpet"
           }
          ],
          "heatmap": [
           {
            "colorbar": {
             "outlinewidth": 0,
             "ticks": ""
            },
            "colorscale": [
             [
              0,
              "#0d0887"
             ],
             [
              0.1111111111111111,
              "#46039f"
             ],
             [
              0.2222222222222222,
              "#7201a8"
             ],
             [
              0.3333333333333333,
              "#9c179e"
             ],
             [
              0.4444444444444444,
              "#bd3786"
             ],
             [
              0.5555555555555556,
              "#d8576b"
             ],
             [
              0.6666666666666666,
              "#ed7953"
             ],
             [
              0.7777777777777778,
              "#fb9f3a"
             ],
             [
              0.8888888888888888,
              "#fdca26"
             ],
             [
              1,
              "#f0f921"
             ]
            ],
            "type": "heatmap"
           }
          ],
          "heatmapgl": [
           {
            "colorbar": {
             "outlinewidth": 0,
             "ticks": ""
            },
            "colorscale": [
             [
              0,
              "#0d0887"
             ],
             [
              0.1111111111111111,
              "#46039f"
             ],
             [
              0.2222222222222222,
              "#7201a8"
             ],
             [
              0.3333333333333333,
              "#9c179e"
             ],
             [
              0.4444444444444444,
              "#bd3786"
             ],
             [
              0.5555555555555556,
              "#d8576b"
             ],
             [
              0.6666666666666666,
              "#ed7953"
             ],
             [
              0.7777777777777778,
              "#fb9f3a"
             ],
             [
              0.8888888888888888,
              "#fdca26"
             ],
             [
              1,
              "#f0f921"
             ]
            ],
            "type": "heatmapgl"
           }
          ],
          "histogram": [
           {
            "marker": {
             "pattern": {
              "fillmode": "overlay",
              "size": 10,
              "solidity": 0.2
             }
            },
            "type": "histogram"
           }
          ],
          "histogram2d": [
           {
            "colorbar": {
             "outlinewidth": 0,
             "ticks": ""
            },
            "colorscale": [
             [
              0,
              "#0d0887"
             ],
             [
              0.1111111111111111,
              "#46039f"
             ],
             [
              0.2222222222222222,
              "#7201a8"
             ],
             [
              0.3333333333333333,
              "#9c179e"
             ],
             [
              0.4444444444444444,
              "#bd3786"
             ],
             [
              0.5555555555555556,
              "#d8576b"
             ],
             [
              0.6666666666666666,
              "#ed7953"
             ],
             [
              0.7777777777777778,
              "#fb9f3a"
             ],
             [
              0.8888888888888888,
              "#fdca26"
             ],
             [
              1,
              "#f0f921"
             ]
            ],
            "type": "histogram2d"
           }
          ],
          "histogram2dcontour": [
           {
            "colorbar": {
             "outlinewidth": 0,
             "ticks": ""
            },
            "colorscale": [
             [
              0,
              "#0d0887"
             ],
             [
              0.1111111111111111,
              "#46039f"
             ],
             [
              0.2222222222222222,
              "#7201a8"
             ],
             [
              0.3333333333333333,
              "#9c179e"
             ],
             [
              0.4444444444444444,
              "#bd3786"
             ],
             [
              0.5555555555555556,
              "#d8576b"
             ],
             [
              0.6666666666666666,
              "#ed7953"
             ],
             [
              0.7777777777777778,
              "#fb9f3a"
             ],
             [
              0.8888888888888888,
              "#fdca26"
             ],
             [
              1,
              "#f0f921"
             ]
            ],
            "type": "histogram2dcontour"
           }
          ],
          "mesh3d": [
           {
            "colorbar": {
             "outlinewidth": 0,
             "ticks": ""
            },
            "type": "mesh3d"
           }
          ],
          "parcoords": [
           {
            "line": {
             "colorbar": {
              "outlinewidth": 0,
              "ticks": ""
             }
            },
            "type": "parcoords"
           }
          ],
          "pie": [
           {
            "automargin": true,
            "type": "pie"
           }
          ],
          "scatter": [
           {
            "marker": {
             "colorbar": {
              "outlinewidth": 0,
              "ticks": ""
             }
            },
            "type": "scatter"
           }
          ],
          "scatter3d": [
           {
            "line": {
             "colorbar": {
              "outlinewidth": 0,
              "ticks": ""
             }
            },
            "marker": {
             "colorbar": {
              "outlinewidth": 0,
              "ticks": ""
             }
            },
            "type": "scatter3d"
           }
          ],
          "scattercarpet": [
           {
            "marker": {
             "colorbar": {
              "outlinewidth": 0,
              "ticks": ""
             }
            },
            "type": "scattercarpet"
           }
          ],
          "scattergeo": [
           {
            "marker": {
             "colorbar": {
              "outlinewidth": 0,
              "ticks": ""
             }
            },
            "type": "scattergeo"
           }
          ],
          "scattergl": [
           {
            "marker": {
             "colorbar": {
              "outlinewidth": 0,
              "ticks": ""
             }
            },
            "type": "scattergl"
           }
          ],
          "scattermapbox": [
           {
            "marker": {
             "colorbar": {
              "outlinewidth": 0,
              "ticks": ""
             }
            },
            "type": "scattermapbox"
           }
          ],
          "scatterpolar": [
           {
            "marker": {
             "colorbar": {
              "outlinewidth": 0,
              "ticks": ""
             }
            },
            "type": "scatterpolar"
           }
          ],
          "scatterpolargl": [
           {
            "marker": {
             "colorbar": {
              "outlinewidth": 0,
              "ticks": ""
             }
            },
            "type": "scatterpolargl"
           }
          ],
          "scatterternary": [
           {
            "marker": {
             "colorbar": {
              "outlinewidth": 0,
              "ticks": ""
             }
            },
            "type": "scatterternary"
           }
          ],
          "surface": [
           {
            "colorbar": {
             "outlinewidth": 0,
             "ticks": ""
            },
            "colorscale": [
             [
              0,
              "#0d0887"
             ],
             [
              0.1111111111111111,
              "#46039f"
             ],
             [
              0.2222222222222222,
              "#7201a8"
             ],
             [
              0.3333333333333333,
              "#9c179e"
             ],
             [
              0.4444444444444444,
              "#bd3786"
             ],
             [
              0.5555555555555556,
              "#d8576b"
             ],
             [
              0.6666666666666666,
              "#ed7953"
             ],
             [
              0.7777777777777778,
              "#fb9f3a"
             ],
             [
              0.8888888888888888,
              "#fdca26"
             ],
             [
              1,
              "#f0f921"
             ]
            ],
            "type": "surface"
           }
          ],
          "table": [
           {
            "cells": {
             "fill": {
              "color": "#EBF0F8"
             },
             "line": {
              "color": "white"
             }
            },
            "header": {
             "fill": {
              "color": "#C8D4E3"
             },
             "line": {
              "color": "white"
             }
            },
            "type": "table"
           }
          ]
         },
         "layout": {
          "annotationdefaults": {
           "arrowcolor": "#2a3f5f",
           "arrowhead": 0,
           "arrowwidth": 1
          },
          "autotypenumbers": "strict",
          "coloraxis": {
           "colorbar": {
            "outlinewidth": 0,
            "ticks": ""
           }
          },
          "colorscale": {
           "diverging": [
            [
             0,
             "#8e0152"
            ],
            [
             0.1,
             "#c51b7d"
            ],
            [
             0.2,
             "#de77ae"
            ],
            [
             0.3,
             "#f1b6da"
            ],
            [
             0.4,
             "#fde0ef"
            ],
            [
             0.5,
             "#f7f7f7"
            ],
            [
             0.6,
             "#e6f5d0"
            ],
            [
             0.7,
             "#b8e186"
            ],
            [
             0.8,
             "#7fbc41"
            ],
            [
             0.9,
             "#4d9221"
            ],
            [
             1,
             "#276419"
            ]
           ],
           "sequential": [
            [
             0,
             "#0d0887"
            ],
            [
             0.1111111111111111,
             "#46039f"
            ],
            [
             0.2222222222222222,
             "#7201a8"
            ],
            [
             0.3333333333333333,
             "#9c179e"
            ],
            [
             0.4444444444444444,
             "#bd3786"
            ],
            [
             0.5555555555555556,
             "#d8576b"
            ],
            [
             0.6666666666666666,
             "#ed7953"
            ],
            [
             0.7777777777777778,
             "#fb9f3a"
            ],
            [
             0.8888888888888888,
             "#fdca26"
            ],
            [
             1,
             "#f0f921"
            ]
           ],
           "sequentialminus": [
            [
             0,
             "#0d0887"
            ],
            [
             0.1111111111111111,
             "#46039f"
            ],
            [
             0.2222222222222222,
             "#7201a8"
            ],
            [
             0.3333333333333333,
             "#9c179e"
            ],
            [
             0.4444444444444444,
             "#bd3786"
            ],
            [
             0.5555555555555556,
             "#d8576b"
            ],
            [
             0.6666666666666666,
             "#ed7953"
            ],
            [
             0.7777777777777778,
             "#fb9f3a"
            ],
            [
             0.8888888888888888,
             "#fdca26"
            ],
            [
             1,
             "#f0f921"
            ]
           ]
          },
          "colorway": [
           "#636efa",
           "#EF553B",
           "#00cc96",
           "#ab63fa",
           "#FFA15A",
           "#19d3f3",
           "#FF6692",
           "#B6E880",
           "#FF97FF",
           "#FECB52"
          ],
          "font": {
           "color": "#2a3f5f"
          },
          "geo": {
           "bgcolor": "white",
           "lakecolor": "white",
           "landcolor": "#E5ECF6",
           "showlakes": true,
           "showland": true,
           "subunitcolor": "white"
          },
          "hoverlabel": {
           "align": "left"
          },
          "hovermode": "closest",
          "mapbox": {
           "style": "light"
          },
          "paper_bgcolor": "white",
          "plot_bgcolor": "#E5ECF6",
          "polar": {
           "angularaxis": {
            "gridcolor": "white",
            "linecolor": "white",
            "ticks": ""
           },
           "bgcolor": "#E5ECF6",
           "radialaxis": {
            "gridcolor": "white",
            "linecolor": "white",
            "ticks": ""
           }
          },
          "scene": {
           "xaxis": {
            "backgroundcolor": "#E5ECF6",
            "gridcolor": "white",
            "gridwidth": 2,
            "linecolor": "white",
            "showbackground": true,
            "ticks": "",
            "zerolinecolor": "white"
           },
           "yaxis": {
            "backgroundcolor": "#E5ECF6",
            "gridcolor": "white",
            "gridwidth": 2,
            "linecolor": "white",
            "showbackground": true,
            "ticks": "",
            "zerolinecolor": "white"
           },
           "zaxis": {
            "backgroundcolor": "#E5ECF6",
            "gridcolor": "white",
            "gridwidth": 2,
            "linecolor": "white",
            "showbackground": true,
            "ticks": "",
            "zerolinecolor": "white"
           }
          },
          "shapedefaults": {
           "line": {
            "color": "#2a3f5f"
           }
          },
          "ternary": {
           "aaxis": {
            "gridcolor": "white",
            "linecolor": "white",
            "ticks": ""
           },
           "baxis": {
            "gridcolor": "white",
            "linecolor": "white",
            "ticks": ""
           },
           "bgcolor": "#E5ECF6",
           "caxis": {
            "gridcolor": "white",
            "linecolor": "white",
            "ticks": ""
           }
          },
          "title": {
           "x": 0.05
          },
          "xaxis": {
           "automargin": true,
           "gridcolor": "white",
           "linecolor": "white",
           "ticks": "",
           "title": {
            "standoff": 15
           },
           "zerolinecolor": "white",
           "zerolinewidth": 2
          },
          "yaxis": {
           "automargin": true,
           "gridcolor": "white",
           "linecolor": "white",
           "ticks": "",
           "title": {
            "standoff": 15
           },
           "zerolinecolor": "white",
           "zerolinewidth": 2
          }
         }
        },
        "xaxis": {
         "anchor": "y",
         "domain": [
          0,
          1
         ],
         "title": {
          "text": "Date"
         }
        },
        "yaxis": {
         "anchor": "x",
         "domain": [
          0,
          1
         ],
         "title": {
          "text": "Remain"
         }
        }
       }
      }
     },
     "metadata": {},
     "output_type": "display_data"
    }
   ],
   "source": [
    "def create_expenses_by_category(df, category, month, year):\n",
    "    expenses_df = df.copy()\n",
    "    expenses_df = expenses_df[expenses_df['year_month'] == f'{year}-{month}']\n",
    "    expenses_df = expenses_df[expenses_df['transaction_type'] == 'Expenses']    \n",
    "    expenses_df = expenses_df[expenses_df['category'].isin(category)]\n",
    "    expenses_df = expenses_df.groupby('date')['amount'].sum().reset_index(name ='sum')\n",
    "    \n",
    "    expenses_df = fill_in_missing_date(expenses_df, f'{year}-{month}-01', \n",
    "                                                    f'{year}-{month}-{get_last_day_of_month(int(year), int(month))}')\n",
    "    \n",
    "    expenses_df['cumulative_sum'] = expenses_df['sum'].cumsum()\n",
    "    expenses_df['Remain'] = NECESSITY_MONEY-expenses_df['cumulative_sum']\n",
    "    expenses_df['Date'] = expenses_df['date']\n",
    "    \n",
    "    fig = px.area(expenses_df, x='Date', \n",
    "                               y='Remain')\n",
    "    return fig\n",
    "\n",
    "create_expenses_by_category(df, ['Food', \n",
    "                                 'Drink', \n",
    "                                 'Transportation', \n",
    "                                 'Personal', \n",
    "                                 'Household Items', \n",
    "                                 'Fees'], '10', '2021')"
   ]
  },
  {
   "cell_type": "code",
   "execution_count": 16,
   "id": "eaaa17f4",
   "metadata": {},
   "outputs": [
    {
     "data": {
      "application/vnd.plotly.v1+json": {
       "config": {
        "plotlyServerURL": "https://plot.ly"
       },
       "data": [
        {
         "hovertemplate": "category=Drink<br>Month=%{x}<br>Amount=%{y}<extra></extra>",
         "legendgroup": "Drink",
         "line": {
          "color": "#636efa",
          "dash": "solid"
         },
         "mode": "lines",
         "name": "Drink",
         "orientation": "v",
         "showlegend": true,
         "type": "scatter",
         "x": [
          "2021-01",
          "2021-03",
          "2021-04",
          "2021-05",
          "2021-06",
          "2021-07",
          "2021-10"
         ],
         "xaxis": "x",
         "y": [
          186900,
          181000,
          310700,
          259000,
          163000,
          137000,
          12000
         ],
         "yaxis": "y"
        },
        {
         "hovertemplate": "category=Education<br>Month=%{x}<br>Amount=%{y}<extra></extra>",
         "legendgroup": "Education",
         "line": {
          "color": "#EF553B",
          "dash": "solid"
         },
         "mode": "lines",
         "name": "Education",
         "orientation": "v",
         "showlegend": true,
         "type": "scatter",
         "x": [
          "2021-01",
          "2021-02",
          "2021-03",
          "2021-07",
          "2021-09"
         ],
         "xaxis": "x",
         "y": [
          802680,
          75000,
          188032,
          566708,
          234297
         ],
         "yaxis": "y"
        },
        {
         "hovertemplate": "category=Fees<br>Month=%{x}<br>Amount=%{y}<extra></extra>",
         "legendgroup": "Fees",
         "line": {
          "color": "#00cc96",
          "dash": "solid"
         },
         "mode": "lines",
         "name": "Fees",
         "orientation": "v",
         "showlegend": true,
         "type": "scatter",
         "x": [
          "2021-01",
          "2021-02",
          "2021-03",
          "2021-04",
          "2021-05",
          "2021-06",
          "2021-07",
          "2021-10"
         ],
         "xaxis": "x",
         "y": [
          3300,
          5000,
          15000,
          20500,
          15200,
          12200,
          19998,
          10000
         ],
         "yaxis": "y"
        },
        {
         "hovertemplate": "category=Food<br>Month=%{x}<br>Amount=%{y}<extra></extra>",
         "legendgroup": "Food",
         "line": {
          "color": "#ab63fa",
          "dash": "solid"
         },
         "mode": "lines",
         "name": "Food",
         "orientation": "v",
         "showlegend": true,
         "type": "scatter",
         "x": [
          "2021-01",
          "2021-02",
          "2021-03",
          "2021-04",
          "2021-05",
          "2021-06",
          "2021-07",
          "2021-10"
         ],
         "xaxis": "x",
         "y": [
          1177562,
          32000,
          593500,
          1744700,
          1154000,
          1462092,
          1879544,
          87000
         ],
         "yaxis": "y"
        },
        {
         "hovertemplate": "category=Household Items<br>Month=%{x}<br>Amount=%{y}<extra></extra>",
         "legendgroup": "Household Items",
         "line": {
          "color": "#FFA15A",
          "dash": "solid"
         },
         "mode": "lines",
         "name": "Household Items",
         "orientation": "v",
         "showlegend": true,
         "type": "scatter",
         "x": [
          "2021-01"
         ],
         "xaxis": "x",
         "y": [
          16000
         ],
         "yaxis": "y"
        },
        {
         "hovertemplate": "category=Personal<br>Month=%{x}<br>Amount=%{y}<extra></extra>",
         "legendgroup": "Personal",
         "line": {
          "color": "#19d3f3",
          "dash": "solid"
         },
         "mode": "lines",
         "name": "Personal",
         "orientation": "v",
         "showlegend": true,
         "type": "scatter",
         "x": [
          "2021-01",
          "2021-02",
          "2021-03",
          "2021-04",
          "2021-05",
          "2021-06",
          "2021-07",
          "2021-08"
         ],
         "xaxis": "x",
         "y": [
          434500,
          116000,
          55000,
          480000,
          673692,
          3265713,
          3159224,
          70000
         ],
         "yaxis": "y"
        },
        {
         "hovertemplate": "category=Transportation<br>Month=%{x}<br>Amount=%{y}<extra></extra>",
         "legendgroup": "Transportation",
         "line": {
          "color": "#FF6692",
          "dash": "solid"
         },
         "mode": "lines",
         "name": "Transportation",
         "orientation": "v",
         "showlegend": true,
         "type": "scatter",
         "x": [
          "2021-01",
          "2021-02",
          "2021-03",
          "2021-04",
          "2021-05",
          "2021-06",
          "2021-07"
         ],
         "xaxis": "x",
         "y": [
          922000,
          308000,
          565000,
          642000,
          239000,
          1014000,
          140000
         ],
         "yaxis": "y"
        },
        {
         "hovertemplate": "category=Travel<br>Month=%{x}<br>Amount=%{y}<extra></extra>",
         "legendgroup": "Travel",
         "line": {
          "color": "#B6E880",
          "dash": "solid"
         },
         "mode": "lines",
         "name": "Travel",
         "orientation": "v",
         "showlegend": true,
         "type": "scatter",
         "x": [
          "2021-01"
         ],
         "xaxis": "x",
         "y": [
          1514000
         ],
         "yaxis": "y"
        },
        {
         "hovertemplate": "category=Entertainment<br>Month=%{x}<br>Amount=%{y}<extra></extra>",
         "legendgroup": "Entertainment",
         "line": {
          "color": "#FF97FF",
          "dash": "solid"
         },
         "mode": "lines",
         "name": "Entertainment",
         "orientation": "v",
         "showlegend": true,
         "type": "scatter",
         "x": [
          "2021-02"
         ],
         "xaxis": "x",
         "y": [
          215000
         ],
         "yaxis": "y"
        },
        {
         "hovertemplate": "category=Utility<br>Month=%{x}<br>Amount=%{y}<extra></extra>",
         "legendgroup": "Utility",
         "line": {
          "color": "#FECB52",
          "dash": "solid"
         },
         "mode": "lines",
         "name": "Utility",
         "orientation": "v",
         "showlegend": true,
         "type": "scatter",
         "x": [
          "2021-02"
         ],
         "xaxis": "x",
         "y": [
          30000
         ],
         "yaxis": "y"
        },
        {
         "hovertemplate": "category=Givings<br>Month=%{x}<br>Amount=%{y}<extra></extra>",
         "legendgroup": "Givings",
         "line": {
          "color": "#636efa",
          "dash": "solid"
         },
         "mode": "lines",
         "name": "Givings",
         "orientation": "v",
         "showlegend": true,
         "type": "scatter",
         "x": [
          "2021-04",
          "2021-05",
          "2021-06",
          "2021-08",
          "2021-10"
         ],
         "xaxis": "x",
         "y": [
          30000,
          10000,
          30000,
          113869,
          20000
         ],
         "yaxis": "y"
        },
        {
         "hovertemplate": "category=Health<br>Month=%{x}<br>Amount=%{y}<extra></extra>",
         "legendgroup": "Health",
         "line": {
          "color": "#EF553B",
          "dash": "solid"
         },
         "mode": "lines",
         "name": "Health",
         "orientation": "v",
         "showlegend": true,
         "type": "scatter",
         "x": [
          "2021-05"
         ],
         "xaxis": "x",
         "y": [
          60000
         ],
         "yaxis": "y"
        },
        {
         "hovertemplate": "category=All<br>Month=%{x}<br>Amount=%{y}<extra></extra>",
         "legendgroup": "All",
         "line": {
          "color": "#00cc96",
          "dash": "solid"
         },
         "mode": "lines",
         "name": "All",
         "orientation": "v",
         "showlegend": true,
         "type": "scatter",
         "x": [
          "2021-10"
         ],
         "xaxis": "x",
         "y": [
          12
         ],
         "yaxis": "y"
        }
       ],
       "layout": {
        "legend": {
         "title": {
          "text": "category"
         },
         "tracegroupgap": 0
        },
        "margin": {
         "t": 60
        },
        "template": {
         "data": {
          "bar": [
           {
            "error_x": {
             "color": "#2a3f5f"
            },
            "error_y": {
             "color": "#2a3f5f"
            },
            "marker": {
             "line": {
              "color": "#E5ECF6",
              "width": 0.5
             },
             "pattern": {
              "fillmode": "overlay",
              "size": 10,
              "solidity": 0.2
             }
            },
            "type": "bar"
           }
          ],
          "barpolar": [
           {
            "marker": {
             "line": {
              "color": "#E5ECF6",
              "width": 0.5
             },
             "pattern": {
              "fillmode": "overlay",
              "size": 10,
              "solidity": 0.2
             }
            },
            "type": "barpolar"
           }
          ],
          "carpet": [
           {
            "aaxis": {
             "endlinecolor": "#2a3f5f",
             "gridcolor": "white",
             "linecolor": "white",
             "minorgridcolor": "white",
             "startlinecolor": "#2a3f5f"
            },
            "baxis": {
             "endlinecolor": "#2a3f5f",
             "gridcolor": "white",
             "linecolor": "white",
             "minorgridcolor": "white",
             "startlinecolor": "#2a3f5f"
            },
            "type": "carpet"
           }
          ],
          "choropleth": [
           {
            "colorbar": {
             "outlinewidth": 0,
             "ticks": ""
            },
            "type": "choropleth"
           }
          ],
          "contour": [
           {
            "colorbar": {
             "outlinewidth": 0,
             "ticks": ""
            },
            "colorscale": [
             [
              0,
              "#0d0887"
             ],
             [
              0.1111111111111111,
              "#46039f"
             ],
             [
              0.2222222222222222,
              "#7201a8"
             ],
             [
              0.3333333333333333,
              "#9c179e"
             ],
             [
              0.4444444444444444,
              "#bd3786"
             ],
             [
              0.5555555555555556,
              "#d8576b"
             ],
             [
              0.6666666666666666,
              "#ed7953"
             ],
             [
              0.7777777777777778,
              "#fb9f3a"
             ],
             [
              0.8888888888888888,
              "#fdca26"
             ],
             [
              1,
              "#f0f921"
             ]
            ],
            "type": "contour"
           }
          ],
          "contourcarpet": [
           {
            "colorbar": {
             "outlinewidth": 0,
             "ticks": ""
            },
            "type": "contourcarpet"
           }
          ],
          "heatmap": [
           {
            "colorbar": {
             "outlinewidth": 0,
             "ticks": ""
            },
            "colorscale": [
             [
              0,
              "#0d0887"
             ],
             [
              0.1111111111111111,
              "#46039f"
             ],
             [
              0.2222222222222222,
              "#7201a8"
             ],
             [
              0.3333333333333333,
              "#9c179e"
             ],
             [
              0.4444444444444444,
              "#bd3786"
             ],
             [
              0.5555555555555556,
              "#d8576b"
             ],
             [
              0.6666666666666666,
              "#ed7953"
             ],
             [
              0.7777777777777778,
              "#fb9f3a"
             ],
             [
              0.8888888888888888,
              "#fdca26"
             ],
             [
              1,
              "#f0f921"
             ]
            ],
            "type": "heatmap"
           }
          ],
          "heatmapgl": [
           {
            "colorbar": {
             "outlinewidth": 0,
             "ticks": ""
            },
            "colorscale": [
             [
              0,
              "#0d0887"
             ],
             [
              0.1111111111111111,
              "#46039f"
             ],
             [
              0.2222222222222222,
              "#7201a8"
             ],
             [
              0.3333333333333333,
              "#9c179e"
             ],
             [
              0.4444444444444444,
              "#bd3786"
             ],
             [
              0.5555555555555556,
              "#d8576b"
             ],
             [
              0.6666666666666666,
              "#ed7953"
             ],
             [
              0.7777777777777778,
              "#fb9f3a"
             ],
             [
              0.8888888888888888,
              "#fdca26"
             ],
             [
              1,
              "#f0f921"
             ]
            ],
            "type": "heatmapgl"
           }
          ],
          "histogram": [
           {
            "marker": {
             "pattern": {
              "fillmode": "overlay",
              "size": 10,
              "solidity": 0.2
             }
            },
            "type": "histogram"
           }
          ],
          "histogram2d": [
           {
            "colorbar": {
             "outlinewidth": 0,
             "ticks": ""
            },
            "colorscale": [
             [
              0,
              "#0d0887"
             ],
             [
              0.1111111111111111,
              "#46039f"
             ],
             [
              0.2222222222222222,
              "#7201a8"
             ],
             [
              0.3333333333333333,
              "#9c179e"
             ],
             [
              0.4444444444444444,
              "#bd3786"
             ],
             [
              0.5555555555555556,
              "#d8576b"
             ],
             [
              0.6666666666666666,
              "#ed7953"
             ],
             [
              0.7777777777777778,
              "#fb9f3a"
             ],
             [
              0.8888888888888888,
              "#fdca26"
             ],
             [
              1,
              "#f0f921"
             ]
            ],
            "type": "histogram2d"
           }
          ],
          "histogram2dcontour": [
           {
            "colorbar": {
             "outlinewidth": 0,
             "ticks": ""
            },
            "colorscale": [
             [
              0,
              "#0d0887"
             ],
             [
              0.1111111111111111,
              "#46039f"
             ],
             [
              0.2222222222222222,
              "#7201a8"
             ],
             [
              0.3333333333333333,
              "#9c179e"
             ],
             [
              0.4444444444444444,
              "#bd3786"
             ],
             [
              0.5555555555555556,
              "#d8576b"
             ],
             [
              0.6666666666666666,
              "#ed7953"
             ],
             [
              0.7777777777777778,
              "#fb9f3a"
             ],
             [
              0.8888888888888888,
              "#fdca26"
             ],
             [
              1,
              "#f0f921"
             ]
            ],
            "type": "histogram2dcontour"
           }
          ],
          "mesh3d": [
           {
            "colorbar": {
             "outlinewidth": 0,
             "ticks": ""
            },
            "type": "mesh3d"
           }
          ],
          "parcoords": [
           {
            "line": {
             "colorbar": {
              "outlinewidth": 0,
              "ticks": ""
             }
            },
            "type": "parcoords"
           }
          ],
          "pie": [
           {
            "automargin": true,
            "type": "pie"
           }
          ],
          "scatter": [
           {
            "marker": {
             "colorbar": {
              "outlinewidth": 0,
              "ticks": ""
             }
            },
            "type": "scatter"
           }
          ],
          "scatter3d": [
           {
            "line": {
             "colorbar": {
              "outlinewidth": 0,
              "ticks": ""
             }
            },
            "marker": {
             "colorbar": {
              "outlinewidth": 0,
              "ticks": ""
             }
            },
            "type": "scatter3d"
           }
          ],
          "scattercarpet": [
           {
            "marker": {
             "colorbar": {
              "outlinewidth": 0,
              "ticks": ""
             }
            },
            "type": "scattercarpet"
           }
          ],
          "scattergeo": [
           {
            "marker": {
             "colorbar": {
              "outlinewidth": 0,
              "ticks": ""
             }
            },
            "type": "scattergeo"
           }
          ],
          "scattergl": [
           {
            "marker": {
             "colorbar": {
              "outlinewidth": 0,
              "ticks": ""
             }
            },
            "type": "scattergl"
           }
          ],
          "scattermapbox": [
           {
            "marker": {
             "colorbar": {
              "outlinewidth": 0,
              "ticks": ""
             }
            },
            "type": "scattermapbox"
           }
          ],
          "scatterpolar": [
           {
            "marker": {
             "colorbar": {
              "outlinewidth": 0,
              "ticks": ""
             }
            },
            "type": "scatterpolar"
           }
          ],
          "scatterpolargl": [
           {
            "marker": {
             "colorbar": {
              "outlinewidth": 0,
              "ticks": ""
             }
            },
            "type": "scatterpolargl"
           }
          ],
          "scatterternary": [
           {
            "marker": {
             "colorbar": {
              "outlinewidth": 0,
              "ticks": ""
             }
            },
            "type": "scatterternary"
           }
          ],
          "surface": [
           {
            "colorbar": {
             "outlinewidth": 0,
             "ticks": ""
            },
            "colorscale": [
             [
              0,
              "#0d0887"
             ],
             [
              0.1111111111111111,
              "#46039f"
             ],
             [
              0.2222222222222222,
              "#7201a8"
             ],
             [
              0.3333333333333333,
              "#9c179e"
             ],
             [
              0.4444444444444444,
              "#bd3786"
             ],
             [
              0.5555555555555556,
              "#d8576b"
             ],
             [
              0.6666666666666666,
              "#ed7953"
             ],
             [
              0.7777777777777778,
              "#fb9f3a"
             ],
             [
              0.8888888888888888,
              "#fdca26"
             ],
             [
              1,
              "#f0f921"
             ]
            ],
            "type": "surface"
           }
          ],
          "table": [
           {
            "cells": {
             "fill": {
              "color": "#EBF0F8"
             },
             "line": {
              "color": "white"
             }
            },
            "header": {
             "fill": {
              "color": "#C8D4E3"
             },
             "line": {
              "color": "white"
             }
            },
            "type": "table"
           }
          ]
         },
         "layout": {
          "annotationdefaults": {
           "arrowcolor": "#2a3f5f",
           "arrowhead": 0,
           "arrowwidth": 1
          },
          "autotypenumbers": "strict",
          "coloraxis": {
           "colorbar": {
            "outlinewidth": 0,
            "ticks": ""
           }
          },
          "colorscale": {
           "diverging": [
            [
             0,
             "#8e0152"
            ],
            [
             0.1,
             "#c51b7d"
            ],
            [
             0.2,
             "#de77ae"
            ],
            [
             0.3,
             "#f1b6da"
            ],
            [
             0.4,
             "#fde0ef"
            ],
            [
             0.5,
             "#f7f7f7"
            ],
            [
             0.6,
             "#e6f5d0"
            ],
            [
             0.7,
             "#b8e186"
            ],
            [
             0.8,
             "#7fbc41"
            ],
            [
             0.9,
             "#4d9221"
            ],
            [
             1,
             "#276419"
            ]
           ],
           "sequential": [
            [
             0,
             "#0d0887"
            ],
            [
             0.1111111111111111,
             "#46039f"
            ],
            [
             0.2222222222222222,
             "#7201a8"
            ],
            [
             0.3333333333333333,
             "#9c179e"
            ],
            [
             0.4444444444444444,
             "#bd3786"
            ],
            [
             0.5555555555555556,
             "#d8576b"
            ],
            [
             0.6666666666666666,
             "#ed7953"
            ],
            [
             0.7777777777777778,
             "#fb9f3a"
            ],
            [
             0.8888888888888888,
             "#fdca26"
            ],
            [
             1,
             "#f0f921"
            ]
           ],
           "sequentialminus": [
            [
             0,
             "#0d0887"
            ],
            [
             0.1111111111111111,
             "#46039f"
            ],
            [
             0.2222222222222222,
             "#7201a8"
            ],
            [
             0.3333333333333333,
             "#9c179e"
            ],
            [
             0.4444444444444444,
             "#bd3786"
            ],
            [
             0.5555555555555556,
             "#d8576b"
            ],
            [
             0.6666666666666666,
             "#ed7953"
            ],
            [
             0.7777777777777778,
             "#fb9f3a"
            ],
            [
             0.8888888888888888,
             "#fdca26"
            ],
            [
             1,
             "#f0f921"
            ]
           ]
          },
          "colorway": [
           "#636efa",
           "#EF553B",
           "#00cc96",
           "#ab63fa",
           "#FFA15A",
           "#19d3f3",
           "#FF6692",
           "#B6E880",
           "#FF97FF",
           "#FECB52"
          ],
          "font": {
           "color": "#2a3f5f"
          },
          "geo": {
           "bgcolor": "white",
           "lakecolor": "white",
           "landcolor": "#E5ECF6",
           "showlakes": true,
           "showland": true,
           "subunitcolor": "white"
          },
          "hoverlabel": {
           "align": "left"
          },
          "hovermode": "closest",
          "mapbox": {
           "style": "light"
          },
          "paper_bgcolor": "white",
          "plot_bgcolor": "#E5ECF6",
          "polar": {
           "angularaxis": {
            "gridcolor": "white",
            "linecolor": "white",
            "ticks": ""
           },
           "bgcolor": "#E5ECF6",
           "radialaxis": {
            "gridcolor": "white",
            "linecolor": "white",
            "ticks": ""
           }
          },
          "scene": {
           "xaxis": {
            "backgroundcolor": "#E5ECF6",
            "gridcolor": "white",
            "gridwidth": 2,
            "linecolor": "white",
            "showbackground": true,
            "ticks": "",
            "zerolinecolor": "white"
           },
           "yaxis": {
            "backgroundcolor": "#E5ECF6",
            "gridcolor": "white",
            "gridwidth": 2,
            "linecolor": "white",
            "showbackground": true,
            "ticks": "",
            "zerolinecolor": "white"
           },
           "zaxis": {
            "backgroundcolor": "#E5ECF6",
            "gridcolor": "white",
            "gridwidth": 2,
            "linecolor": "white",
            "showbackground": true,
            "ticks": "",
            "zerolinecolor": "white"
           }
          },
          "shapedefaults": {
           "line": {
            "color": "#2a3f5f"
           }
          },
          "ternary": {
           "aaxis": {
            "gridcolor": "white",
            "linecolor": "white",
            "ticks": ""
           },
           "baxis": {
            "gridcolor": "white",
            "linecolor": "white",
            "ticks": ""
           },
           "bgcolor": "#E5ECF6",
           "caxis": {
            "gridcolor": "white",
            "linecolor": "white",
            "ticks": ""
           }
          },
          "title": {
           "x": 0.05
          },
          "xaxis": {
           "automargin": true,
           "gridcolor": "white",
           "linecolor": "white",
           "ticks": "",
           "title": {
            "standoff": 15
           },
           "zerolinecolor": "white",
           "zerolinewidth": 2
          },
          "yaxis": {
           "automargin": true,
           "gridcolor": "white",
           "linecolor": "white",
           "ticks": "",
           "title": {
            "standoff": 15
           },
           "zerolinecolor": "white",
           "zerolinewidth": 2
          }
         }
        },
        "xaxis": {
         "anchor": "y",
         "domain": [
          0,
          1
         ],
         "title": {
          "text": "Month"
         }
        },
        "yaxis": {
         "anchor": "x",
         "domain": [
          0,
          1
         ],
         "title": {
          "text": "Amount"
         }
        }
       }
      }
     },
     "metadata": {},
     "output_type": "display_data"
    }
   ],
   "source": [
    "def create_plot_for_category(df):\n",
    "    category_df = df.copy()\n",
    "    category_df['date'] = pd.to_datetime(category_df['date'])  \n",
    "    category_df = category_df[(category_df['date'] >= '2018-01-01') & (category_df['date'] <= datetime.datetime.now())]\n",
    "    category_df = category_df[category_df['transaction_type'] == 'Expenses']    \n",
    "    category_df = category_df.groupby(['year_month','category']).sum().reset_index()\n",
    "    \n",
    "    category_df['Amount'] = category_df['amount']\n",
    "    category_df['Month'] = category_df['year_month']\n",
    "    fig = px.line(category_df, x='Month', y='Amount', color='category')\n",
    "    \n",
    "    return fig\n",
    "\n",
    "create_plot_for_category(df)"
   ]
  },
  {
   "cell_type": "code",
   "execution_count": 17,
   "id": "ae8b4343",
   "metadata": {},
   "outputs": [],
   "source": [
    "def create_daily_expenses_plot(df, year, month):\n",
    "    daily_df = df.copy()\n",
    "    daily_df = daily_df[daily_df['year_month'] == f'{year}-{month}']\n",
    "    daily_df = daily_df[daily_df['transaction_type'] == 'Expenses']\n",
    "    daily_df = daily_df.groupby('date')['amount'].sum().reset_index(name ='sum')\n",
    "\n",
    "    daily_df = fill_in_missing_date(daily_df, f'{year}-{month}-01', \n",
    "                                                f'{year}-{month}-{get_last_day_of_month(int(year), int(month))}')\n",
    "    \n",
    "    \n",
    "    Daily_Expenses = go.Figure(\n",
    "            data = go.Scatter(x = daily_df[\"date\"], y = daily_df['sum']),\n",
    "            layout = go.Layout(\n",
    "                title = go.layout.Title(text=f\"Daily expenses in {calendar.month_name[int(month)]}, {year}\")\n",
    "            )\n",
    "    )\n",
    "    Daily_Expenses.update_layout(\n",
    "            xaxis_title = \"Date\",\n",
    "            yaxis_title = \"Daily Expenses (VND)\",\n",
    "            hovermode = 'x unified'\n",
    "        )\n",
    "    Daily_Expenses.update_xaxes(\n",
    "        tickangle = 45)\n",
    "    \n",
    "    return Daily_Expenses"
   ]
  },
  {
   "cell_type": "code",
   "execution_count": 18,
   "id": "be02f324",
   "metadata": {},
   "outputs": [],
   "source": [
    "def create_cumulative_monthly_expenses_plot(df, year, month):\n",
    "    cumsum_df = df.copy()\n",
    "    cumsum_df = cumsum_df[cumsum_df['year_month'] == f'{year}-{month}']\n",
    "    cumsum_df = cumsum_df[cumsum_df['transaction_type'] == 'Expenses']\n",
    "    cumsum_df = cumsum_df.groupby('date')['amount'].sum().reset_index(name ='sum')\n",
    "    \n",
    "    cumsum_df = fill_in_missing_date(cumsum_df, f'{year}-{month}-01', \n",
    "                                                f'{year}-{month}-{get_last_day_of_month(int(year), int(month))}')\n",
    "    \n",
    "    cumsum_df['cumulative_sum'] = cumsum_df['sum'].cumsum()\n",
    "    \n",
    "    \n",
    "    Cumulative_Monthly_Expenses = go.Figure(\n",
    "        data = go.Scatter(x = cumsum_df[\"date\"], y = cumsum_df['cumulative_sum']),\n",
    "        layout = go.Layout(\n",
    "            title = go.layout.Title(text=f\"Cumulative expenses in {calendar.month_name[int(month)]}, {year}\")\n",
    "        )\n",
    "    )\n",
    "    Cumulative_Monthly_Expenses.update_layout(\n",
    "        xaxis_title = \"Date\",\n",
    "        yaxis_title = \"Cumulative Expenses (VND)\",\n",
    "        hovermode = 'x unified'\n",
    "    )\n",
    "    Cumulative_Monthly_Expenses.update_xaxes(\n",
    "        tickangle = 45)\n",
    "    \n",
    "    return Cumulative_Monthly_Expenses"
   ]
  },
  {
   "cell_type": "code",
   "execution_count": 19,
   "id": "41bc40a7",
   "metadata": {},
   "outputs": [
    {
     "data": {
      "application/vnd.plotly.v1+json": {
       "config": {
        "plotlyServerURL": "https://plot.ly"
       },
       "data": [
        {
         "domain": {
          "x": [
           0,
           1
          ],
          "y": [
           0,
           1
          ]
         },
         "hovertemplate": "Category=%{label}<br>Amount=%{value}<extra></extra>",
         "labels": [
          "All",
          "Drink",
          "Fees",
          "Food",
          "Givings"
         ],
         "legendgroup": "",
         "name": "",
         "showlegend": true,
         "type": "pie",
         "values": [
          12,
          12000,
          10000,
          87000,
          20000
         ]
        }
       ],
       "layout": {
        "legend": {
         "tracegroupgap": 0
        },
        "margin": {
         "t": 60
        },
        "template": {
         "data": {
          "bar": [
           {
            "error_x": {
             "color": "#2a3f5f"
            },
            "error_y": {
             "color": "#2a3f5f"
            },
            "marker": {
             "line": {
              "color": "#E5ECF6",
              "width": 0.5
             },
             "pattern": {
              "fillmode": "overlay",
              "size": 10,
              "solidity": 0.2
             }
            },
            "type": "bar"
           }
          ],
          "barpolar": [
           {
            "marker": {
             "line": {
              "color": "#E5ECF6",
              "width": 0.5
             },
             "pattern": {
              "fillmode": "overlay",
              "size": 10,
              "solidity": 0.2
             }
            },
            "type": "barpolar"
           }
          ],
          "carpet": [
           {
            "aaxis": {
             "endlinecolor": "#2a3f5f",
             "gridcolor": "white",
             "linecolor": "white",
             "minorgridcolor": "white",
             "startlinecolor": "#2a3f5f"
            },
            "baxis": {
             "endlinecolor": "#2a3f5f",
             "gridcolor": "white",
             "linecolor": "white",
             "minorgridcolor": "white",
             "startlinecolor": "#2a3f5f"
            },
            "type": "carpet"
           }
          ],
          "choropleth": [
           {
            "colorbar": {
             "outlinewidth": 0,
             "ticks": ""
            },
            "type": "choropleth"
           }
          ],
          "contour": [
           {
            "colorbar": {
             "outlinewidth": 0,
             "ticks": ""
            },
            "colorscale": [
             [
              0,
              "#0d0887"
             ],
             [
              0.1111111111111111,
              "#46039f"
             ],
             [
              0.2222222222222222,
              "#7201a8"
             ],
             [
              0.3333333333333333,
              "#9c179e"
             ],
             [
              0.4444444444444444,
              "#bd3786"
             ],
             [
              0.5555555555555556,
              "#d8576b"
             ],
             [
              0.6666666666666666,
              "#ed7953"
             ],
             [
              0.7777777777777778,
              "#fb9f3a"
             ],
             [
              0.8888888888888888,
              "#fdca26"
             ],
             [
              1,
              "#f0f921"
             ]
            ],
            "type": "contour"
           }
          ],
          "contourcarpet": [
           {
            "colorbar": {
             "outlinewidth": 0,
             "ticks": ""
            },
            "type": "contourcarpet"
           }
          ],
          "heatmap": [
           {
            "colorbar": {
             "outlinewidth": 0,
             "ticks": ""
            },
            "colorscale": [
             [
              0,
              "#0d0887"
             ],
             [
              0.1111111111111111,
              "#46039f"
             ],
             [
              0.2222222222222222,
              "#7201a8"
             ],
             [
              0.3333333333333333,
              "#9c179e"
             ],
             [
              0.4444444444444444,
              "#bd3786"
             ],
             [
              0.5555555555555556,
              "#d8576b"
             ],
             [
              0.6666666666666666,
              "#ed7953"
             ],
             [
              0.7777777777777778,
              "#fb9f3a"
             ],
             [
              0.8888888888888888,
              "#fdca26"
             ],
             [
              1,
              "#f0f921"
             ]
            ],
            "type": "heatmap"
           }
          ],
          "heatmapgl": [
           {
            "colorbar": {
             "outlinewidth": 0,
             "ticks": ""
            },
            "colorscale": [
             [
              0,
              "#0d0887"
             ],
             [
              0.1111111111111111,
              "#46039f"
             ],
             [
              0.2222222222222222,
              "#7201a8"
             ],
             [
              0.3333333333333333,
              "#9c179e"
             ],
             [
              0.4444444444444444,
              "#bd3786"
             ],
             [
              0.5555555555555556,
              "#d8576b"
             ],
             [
              0.6666666666666666,
              "#ed7953"
             ],
             [
              0.7777777777777778,
              "#fb9f3a"
             ],
             [
              0.8888888888888888,
              "#fdca26"
             ],
             [
              1,
              "#f0f921"
             ]
            ],
            "type": "heatmapgl"
           }
          ],
          "histogram": [
           {
            "marker": {
             "pattern": {
              "fillmode": "overlay",
              "size": 10,
              "solidity": 0.2
             }
            },
            "type": "histogram"
           }
          ],
          "histogram2d": [
           {
            "colorbar": {
             "outlinewidth": 0,
             "ticks": ""
            },
            "colorscale": [
             [
              0,
              "#0d0887"
             ],
             [
              0.1111111111111111,
              "#46039f"
             ],
             [
              0.2222222222222222,
              "#7201a8"
             ],
             [
              0.3333333333333333,
              "#9c179e"
             ],
             [
              0.4444444444444444,
              "#bd3786"
             ],
             [
              0.5555555555555556,
              "#d8576b"
             ],
             [
              0.6666666666666666,
              "#ed7953"
             ],
             [
              0.7777777777777778,
              "#fb9f3a"
             ],
             [
              0.8888888888888888,
              "#fdca26"
             ],
             [
              1,
              "#f0f921"
             ]
            ],
            "type": "histogram2d"
           }
          ],
          "histogram2dcontour": [
           {
            "colorbar": {
             "outlinewidth": 0,
             "ticks": ""
            },
            "colorscale": [
             [
              0,
              "#0d0887"
             ],
             [
              0.1111111111111111,
              "#46039f"
             ],
             [
              0.2222222222222222,
              "#7201a8"
             ],
             [
              0.3333333333333333,
              "#9c179e"
             ],
             [
              0.4444444444444444,
              "#bd3786"
             ],
             [
              0.5555555555555556,
              "#d8576b"
             ],
             [
              0.6666666666666666,
              "#ed7953"
             ],
             [
              0.7777777777777778,
              "#fb9f3a"
             ],
             [
              0.8888888888888888,
              "#fdca26"
             ],
             [
              1,
              "#f0f921"
             ]
            ],
            "type": "histogram2dcontour"
           }
          ],
          "mesh3d": [
           {
            "colorbar": {
             "outlinewidth": 0,
             "ticks": ""
            },
            "type": "mesh3d"
           }
          ],
          "parcoords": [
           {
            "line": {
             "colorbar": {
              "outlinewidth": 0,
              "ticks": ""
             }
            },
            "type": "parcoords"
           }
          ],
          "pie": [
           {
            "automargin": true,
            "type": "pie"
           }
          ],
          "scatter": [
           {
            "marker": {
             "colorbar": {
              "outlinewidth": 0,
              "ticks": ""
             }
            },
            "type": "scatter"
           }
          ],
          "scatter3d": [
           {
            "line": {
             "colorbar": {
              "outlinewidth": 0,
              "ticks": ""
             }
            },
            "marker": {
             "colorbar": {
              "outlinewidth": 0,
              "ticks": ""
             }
            },
            "type": "scatter3d"
           }
          ],
          "scattercarpet": [
           {
            "marker": {
             "colorbar": {
              "outlinewidth": 0,
              "ticks": ""
             }
            },
            "type": "scattercarpet"
           }
          ],
          "scattergeo": [
           {
            "marker": {
             "colorbar": {
              "outlinewidth": 0,
              "ticks": ""
             }
            },
            "type": "scattergeo"
           }
          ],
          "scattergl": [
           {
            "marker": {
             "colorbar": {
              "outlinewidth": 0,
              "ticks": ""
             }
            },
            "type": "scattergl"
           }
          ],
          "scattermapbox": [
           {
            "marker": {
             "colorbar": {
              "outlinewidth": 0,
              "ticks": ""
             }
            },
            "type": "scattermapbox"
           }
          ],
          "scatterpolar": [
           {
            "marker": {
             "colorbar": {
              "outlinewidth": 0,
              "ticks": ""
             }
            },
            "type": "scatterpolar"
           }
          ],
          "scatterpolargl": [
           {
            "marker": {
             "colorbar": {
              "outlinewidth": 0,
              "ticks": ""
             }
            },
            "type": "scatterpolargl"
           }
          ],
          "scatterternary": [
           {
            "marker": {
             "colorbar": {
              "outlinewidth": 0,
              "ticks": ""
             }
            },
            "type": "scatterternary"
           }
          ],
          "surface": [
           {
            "colorbar": {
             "outlinewidth": 0,
             "ticks": ""
            },
            "colorscale": [
             [
              0,
              "#0d0887"
             ],
             [
              0.1111111111111111,
              "#46039f"
             ],
             [
              0.2222222222222222,
              "#7201a8"
             ],
             [
              0.3333333333333333,
              "#9c179e"
             ],
             [
              0.4444444444444444,
              "#bd3786"
             ],
             [
              0.5555555555555556,
              "#d8576b"
             ],
             [
              0.6666666666666666,
              "#ed7953"
             ],
             [
              0.7777777777777778,
              "#fb9f3a"
             ],
             [
              0.8888888888888888,
              "#fdca26"
             ],
             [
              1,
              "#f0f921"
             ]
            ],
            "type": "surface"
           }
          ],
          "table": [
           {
            "cells": {
             "fill": {
              "color": "#EBF0F8"
             },
             "line": {
              "color": "white"
             }
            },
            "header": {
             "fill": {
              "color": "#C8D4E3"
             },
             "line": {
              "color": "white"
             }
            },
            "type": "table"
           }
          ]
         },
         "layout": {
          "annotationdefaults": {
           "arrowcolor": "#2a3f5f",
           "arrowhead": 0,
           "arrowwidth": 1
          },
          "autotypenumbers": "strict",
          "coloraxis": {
           "colorbar": {
            "outlinewidth": 0,
            "ticks": ""
           }
          },
          "colorscale": {
           "diverging": [
            [
             0,
             "#8e0152"
            ],
            [
             0.1,
             "#c51b7d"
            ],
            [
             0.2,
             "#de77ae"
            ],
            [
             0.3,
             "#f1b6da"
            ],
            [
             0.4,
             "#fde0ef"
            ],
            [
             0.5,
             "#f7f7f7"
            ],
            [
             0.6,
             "#e6f5d0"
            ],
            [
             0.7,
             "#b8e186"
            ],
            [
             0.8,
             "#7fbc41"
            ],
            [
             0.9,
             "#4d9221"
            ],
            [
             1,
             "#276419"
            ]
           ],
           "sequential": [
            [
             0,
             "#0d0887"
            ],
            [
             0.1111111111111111,
             "#46039f"
            ],
            [
             0.2222222222222222,
             "#7201a8"
            ],
            [
             0.3333333333333333,
             "#9c179e"
            ],
            [
             0.4444444444444444,
             "#bd3786"
            ],
            [
             0.5555555555555556,
             "#d8576b"
            ],
            [
             0.6666666666666666,
             "#ed7953"
            ],
            [
             0.7777777777777778,
             "#fb9f3a"
            ],
            [
             0.8888888888888888,
             "#fdca26"
            ],
            [
             1,
             "#f0f921"
            ]
           ],
           "sequentialminus": [
            [
             0,
             "#0d0887"
            ],
            [
             0.1111111111111111,
             "#46039f"
            ],
            [
             0.2222222222222222,
             "#7201a8"
            ],
            [
             0.3333333333333333,
             "#9c179e"
            ],
            [
             0.4444444444444444,
             "#bd3786"
            ],
            [
             0.5555555555555556,
             "#d8576b"
            ],
            [
             0.6666666666666666,
             "#ed7953"
            ],
            [
             0.7777777777777778,
             "#fb9f3a"
            ],
            [
             0.8888888888888888,
             "#fdca26"
            ],
            [
             1,
             "#f0f921"
            ]
           ]
          },
          "colorway": [
           "#636efa",
           "#EF553B",
           "#00cc96",
           "#ab63fa",
           "#FFA15A",
           "#19d3f3",
           "#FF6692",
           "#B6E880",
           "#FF97FF",
           "#FECB52"
          ],
          "font": {
           "color": "#2a3f5f"
          },
          "geo": {
           "bgcolor": "white",
           "lakecolor": "white",
           "landcolor": "#E5ECF6",
           "showlakes": true,
           "showland": true,
           "subunitcolor": "white"
          },
          "hoverlabel": {
           "align": "left"
          },
          "hovermode": "closest",
          "mapbox": {
           "style": "light"
          },
          "paper_bgcolor": "white",
          "plot_bgcolor": "#E5ECF6",
          "polar": {
           "angularaxis": {
            "gridcolor": "white",
            "linecolor": "white",
            "ticks": ""
           },
           "bgcolor": "#E5ECF6",
           "radialaxis": {
            "gridcolor": "white",
            "linecolor": "white",
            "ticks": ""
           }
          },
          "scene": {
           "xaxis": {
            "backgroundcolor": "#E5ECF6",
            "gridcolor": "white",
            "gridwidth": 2,
            "linecolor": "white",
            "showbackground": true,
            "ticks": "",
            "zerolinecolor": "white"
           },
           "yaxis": {
            "backgroundcolor": "#E5ECF6",
            "gridcolor": "white",
            "gridwidth": 2,
            "linecolor": "white",
            "showbackground": true,
            "ticks": "",
            "zerolinecolor": "white"
           },
           "zaxis": {
            "backgroundcolor": "#E5ECF6",
            "gridcolor": "white",
            "gridwidth": 2,
            "linecolor": "white",
            "showbackground": true,
            "ticks": "",
            "zerolinecolor": "white"
           }
          },
          "shapedefaults": {
           "line": {
            "color": "#2a3f5f"
           }
          },
          "ternary": {
           "aaxis": {
            "gridcolor": "white",
            "linecolor": "white",
            "ticks": ""
           },
           "baxis": {
            "gridcolor": "white",
            "linecolor": "white",
            "ticks": ""
           },
           "bgcolor": "#E5ECF6",
           "caxis": {
            "gridcolor": "white",
            "linecolor": "white",
            "ticks": ""
           }
          },
          "title": {
           "x": 0.05
          },
          "xaxis": {
           "automargin": true,
           "gridcolor": "white",
           "linecolor": "white",
           "ticks": "",
           "title": {
            "standoff": 15
           },
           "zerolinecolor": "white",
           "zerolinewidth": 2
          },
          "yaxis": {
           "automargin": true,
           "gridcolor": "white",
           "linecolor": "white",
           "ticks": "",
           "title": {
            "standoff": 15
           },
           "zerolinecolor": "white",
           "zerolinewidth": 2
          }
         }
        }
       }
      }
     },
     "metadata": {},
     "output_type": "display_data"
    }
   ],
   "source": [
    "def create_category_pie_chart(df, start_day, end_day):\n",
    "    category_df = df.copy()\n",
    "    category_df['date'] = pd.to_datetime(category_df['date'])  \n",
    "    category_df = category_df[(category_df['date'] >= start_day) & (category_df['date'] <= end_day)]\n",
    "    category_df = category_df[category_df['transaction_type'] == 'Expenses']    \n",
    "    category_df = category_df.groupby('category')['amount'].sum().reset_index(name='sum')\n",
    "    \n",
    "    category_df['Amount'] = category_df['sum']\n",
    "    category_df['Category'] = category_df['category']\n",
    "    fig = px.pie(category_df, values='Amount', names='Category')\n",
    "    \n",
    "    return fig\n",
    "\n",
    "create_category_pie_chart(df, '2021-10-01', '2021-11-01')"
   ]
  },
  {
   "cell_type": "code",
   "execution_count": null,
   "id": "25893e62",
   "metadata": {},
   "outputs": [],
   "source": []
  },
  {
   "cell_type": "code",
   "execution_count": 20,
   "id": "18c70231",
   "metadata": {},
   "outputs": [],
   "source": [
    "\n",
    "\n",
    "transaction_list = df['transaction_type'].unique().tolist()\n",
    "transaction_list = ['All'] + transaction_list\n",
    "\n",
    "transaction_sub_category = df['sub_category'].unique().tolist()\n",
    "transaction_sub_category = ['All'] + transaction_sub_category"
   ]
  },
  {
   "cell_type": "code",
   "execution_count": 21,
   "id": "c66368d6",
   "metadata": {},
   "outputs": [
    {
     "data": {
      "text/plain": [
       "['All', 'Assets', 'Equity', 'Expenses', 'Income', 'Saving']"
      ]
     },
     "execution_count": 21,
     "metadata": {},
     "output_type": "execute_result"
    }
   ],
   "source": [
    "transaction_list"
   ]
  },
  {
   "cell_type": "code",
   "execution_count": 22,
   "id": "09bbab24",
   "metadata": {},
   "outputs": [
    {
     "name": "stdout",
     "output_type": "stream",
     "text": [
      "Dash app running on http://127.0.0.1:8050/\n"
     ]
    }
   ],
   "source": [
    "# Build App\n",
    "external_stylesheets = ['https://codepen.io/chriddyp/pen/bWLwgP.css']\n",
    "\n",
    "app = JupyterDash(__name__, external_stylesheets=external_stylesheets)\n",
    "\n",
    "app.layout = html.Div([\n",
    "    html.Div([\n",
    "        dcc.Tabs([\n",
    "# --------------------------------------- Overview tab ---------------------------------------\n",
    "\n",
    "            dcc.Tab(label='Overview', children=[\n",
    "                \n",
    "                # ----------------------- Graph 01 -----------------------\n",
    "                html.Div([\n",
    "                    html.H2(f\"Expenses for Necessity in {calendar.month_name[int(today_month)]}\"),\n",
    "                                \n",
    "                    dcc.Graph(figure=create_expenses_by_category(df, ['Food', \n",
    "                                                                      'Drink', \n",
    "                                                                      'Transportation', \n",
    "                                                                      'Personal', \n",
    "                                                                      'Household Items',\n",
    "                                                                      'Fees'], today_month, today_year))\n",
    "            \n",
    "                ], style={'width': '48%', 'display': 'inline-block'}),\n",
    "                \n",
    "                # ----------------------- Graph 02 -----------------------\n",
    "                \n",
    "                html.Div([\n",
    "                    html.H2(f\"Expenses for Entertainment & Education in {calendar.month_name[int(today_month)]}\"),\n",
    "                    \n",
    "                    dcc.Graph(figure=create_expenses_by_category(df, ['Education',\n",
    "                                                                      'Entertainment'], today_month, today_year))\n",
    "                    \n",
    "                ], style={'width': '48%', 'display': 'inline-block'}),\n",
    "                \n",
    "                # ----------------------- Graph 03 -----------------------\n",
    "                html.Div([\n",
    "                    html.H2(\"Monthly Expenses\"),\n",
    "                                \n",
    "                    dcc.Graph(figure=create_plot_for_category(df))\n",
    "            \n",
    "                ], style={'width': '48%', 'display': 'inline-block'}),\n",
    "                \n",
    "                # ----------------------- Graph 04 -----------------------\n",
    "                html.Div([\n",
    "                    html.H2(\"Expenses by Category\"),\n",
    "                    \n",
    "                    # ---------\n",
    "                    html.Div([\n",
    "                        html.Div(\"From\", \n",
    "                                 style={'width': '10%', \n",
    "                                        'height':'50%',\n",
    "                                        'display': 'block',\n",
    "#                                   'border': '3px solid green',\n",
    "                                 }),\n",
    "                        \n",
    "                        html.Div([\n",
    "                            dcc.Dropdown(\n",
    "                                id=\"start-date-pie\",\n",
    "                                options=[{\"label\": str(i).zfill(2), \"value\": str(i).zfill(2)} for i in range(1, 32)],\n",
    "                                value=first_day_date.zfill(2),\n",
    "                                clearable=False\n",
    "                            ),\n",
    "                        ], style={'width': '15%', 'display': 'inline-block'}),\n",
    "\n",
    "                        html.Div([\n",
    "                            dcc.Dropdown(\n",
    "                                id=\"start-month-pie\",\n",
    "                                options=[{\"label\": 'January'  , \"value\": '01'},\n",
    "                                         {\"label\": 'February' , \"value\": '02'},\n",
    "                                         {\"label\": 'March'    , \"value\": '03'},\n",
    "                                         {\"label\": 'April'    , \"value\": '04'},\n",
    "                                         {\"label\": 'May'      , \"value\": '05'},\n",
    "                                         {\"label\": 'June'     , \"value\": '06'},\n",
    "                                         {\"label\": 'July'     , \"value\": '07'},\n",
    "                                         {\"label\": 'August'   , \"value\": '08'},\n",
    "                                         {\"label\": 'September', \"value\": '09'},\n",
    "                                         {\"label\": 'October'  , \"value\": '10'},\n",
    "                                         {\"label\": 'November' , \"value\": '11'},\n",
    "                                         {\"label\": 'December' , \"value\": '12'}],\n",
    "                                value=first_day_month,\n",
    "                                clearable=False\n",
    "                            ),\n",
    "                        ], style={'width': '30%', 'display': 'inline-block'}),\n",
    "\n",
    "                        html.Div([\n",
    "                            dcc.Dropdown(\n",
    "                                id=\"start-year-pie\",\n",
    "                                options=[{\"label\": i  , \"value\": i} for i in range(int(first_day_year), datetime.datetime.now().year+1)],\n",
    "                                value=first_day_year,\n",
    "                                clearable=False\n",
    "                            ),\n",
    "                        ], style={'width': '25%', 'display': 'inline-block'})\n",
    "                    ], style={'width': '50%', 'display': 'inline-block'}),\n",
    "                    #----------\n",
    "                    \n",
    "                    html.Div([\n",
    "                        html.Div(\"To\", \n",
    "                                 style={'width': '10%', \n",
    "                                        'height':'50%',\n",
    "                                        'display': 'block',\n",
    "                                 }),\n",
    "\n",
    "                        html.Div([\n",
    "                            dcc.Dropdown(\n",
    "                                id=\"end-date-pie\",\n",
    "                                options=[{\"label\": str(i).zfill(2), \"value\": str(i).zfill(2)} for i in range(1, 32)],\n",
    "                                value=today_date,\n",
    "                                clearable=False\n",
    "                            ),\n",
    "                        ], style={'width': '15%', 'display': 'inline-block'}),\n",
    "\n",
    "                        html.Div([\n",
    "                            dcc.Dropdown(\n",
    "                                id=\"end-month-pie\",\n",
    "                                options=[{\"label\": 'January'  , \"value\": '01'},\n",
    "                                         {\"label\": 'February' , \"value\": '02'},\n",
    "                                         {\"label\": 'March'    , \"value\": '03'},\n",
    "                                         {\"label\": 'April'    , \"value\": '04'},\n",
    "                                         {\"label\": 'May'      , \"value\": '05'},\n",
    "                                         {\"label\": 'June'     , \"value\": '06'},\n",
    "                                         {\"label\": 'July'     , \"value\": '07'},\n",
    "                                         {\"label\": 'August'   , \"value\": '08'},\n",
    "                                         {\"label\": 'September', \"value\": '09'},\n",
    "                                         {\"label\": 'October'  , \"value\": '10'},\n",
    "                                         {\"label\": 'November' , \"value\": '11'},\n",
    "                                         {\"label\": 'December' , \"value\": '12'}],\n",
    "                                value=today_month,\n",
    "                                clearable=False\n",
    "                            ),\n",
    "                        ], style={'width': '30%', 'display': 'inline-block'}),\n",
    "\n",
    "                        html.Div([\n",
    "                            dcc.Dropdown(\n",
    "                                id=\"end-year-pie\",\n",
    "                                options=[{\"label\": i  , \"value\": i} for i in range(int(first_day_year), datetime.datetime.now().year+1)],\n",
    "                                value=today_year,\n",
    "                                clearable=False\n",
    "                            ),\n",
    "                        ], style={'width': '25%', 'display': 'inline-block'})\n",
    "                    ], style={'width': '50%', 'display': 'inline-block'}),\n",
    "                        \n",
    "                    dcc.Graph(id='category-pie')\n",
    "                    \n",
    "                ], style={'width': '48%', 'display': 'inline-block'}),\n",
    "            ]),\n",
    "            \n",
    "# --------------------------------------- Transaction tab ---------------------------------------\n",
    "            dcc.Tab(label='Transactions', children=[\n",
    "                html.Div([\n",
    "                    html.H1(\"Culmulative Expenses in Month\"),\n",
    "                    html.Div([\n",
    "                        dcc.Dropdown(\n",
    "                            id=\"month_cumulative\",\n",
    "                            options=[{\"label\": 'January'  , \"value\": '01'},\n",
    "                                     {\"label\": 'February' , \"value\": '02'},\n",
    "                                     {\"label\": 'March'    , \"value\": '03'},\n",
    "                                     {\"label\": 'April'    , \"value\": '04'},\n",
    "                                     {\"label\": 'May'      , \"value\": '05'},\n",
    "                                     {\"label\": 'June'     , \"value\": '06'},\n",
    "                                     {\"label\": 'July'     , \"value\": '07'},\n",
    "                                     {\"label\": 'August'   , \"value\": '08'},\n",
    "                                     {\"label\": 'September', \"value\": '09'},\n",
    "                                     {\"label\": 'October'  , \"value\": '10'},\n",
    "                                     {\"label\": 'November' , \"value\": '11'},\n",
    "                                     {\"label\": 'December' , \"value\": '12'}],\n",
    "                            value=today_month,\n",
    "                            clearable=False\n",
    "                        ),\n",
    "                    ], style={'width': '18%', 'display': 'inline-block'}),\n",
    "\n",
    "                    html.Div([\n",
    "                        dcc.Dropdown(\n",
    "                            id=\"year_cumulative\",\n",
    "                            options=[{\"label\": i, \"value\": i} for i in range(int(first_day_year), datetime.datetime.now().year+1)],\n",
    "                            value=today_year,\n",
    "                            clearable=False\n",
    "                        ),\n",
    "                    ], style={'width': '10%', 'display': 'inline-block'}),             \n",
    "\n",
    "                    dcc.Graph(id='cumulative_monthly_expenses')\n",
    "               ], style={'width': '48%', 'display': 'inline-block'}),\n",
    "                \n",
    "                html.Div([\n",
    "                    html.H1(\"Daily Expenses in Month\"),\n",
    "                        html.Div([\n",
    "                            dcc.Dropdown(\n",
    "                                id=\"month_daily\",\n",
    "                                options=[{\"label\": 'January'  , \"value\": '01'},\n",
    "                                         {\"label\": 'February' , \"value\": '02'},\n",
    "                                         {\"label\": 'March'    , \"value\": '03'},\n",
    "                                         {\"label\": 'April'    , \"value\": '04'},\n",
    "                                         {\"label\": 'May'      , \"value\": '05'},\n",
    "                                         {\"label\": 'June'     , \"value\": '06'},\n",
    "                                         {\"label\": 'July'     , \"value\": '07'},\n",
    "                                         {\"label\": 'August'   , \"value\": '08'},\n",
    "                                         {\"label\": 'September', \"value\": '09'},\n",
    "                                         {\"label\": 'October'  , \"value\": '10'},\n",
    "                                         {\"label\": 'November' , \"value\": '11'},\n",
    "                                         {\"label\": 'December' , \"value\": '12'}],\n",
    "                                value=today_month,\n",
    "                                clearable=False\n",
    "                            ),\n",
    "                        ], style={'width': '18%', 'display': 'inline-block'}),\n",
    "\n",
    "                        html.Div([\n",
    "                            dcc.Dropdown(\n",
    "                                id=\"year_daily\",\n",
    "                                options=[{\"label\": i, \"value\": i} for i in range(int(first_day_year), datetime.datetime.now().year+1)],\n",
    "                                value=today_year,\n",
    "                                clearable=False\n",
    "                            ),\n",
    "                        ], style={'width': '10%', 'display': 'inline-block'}),             \n",
    "\n",
    "                        dcc.Graph(id='daily_expenses')\n",
    "                ], style={'width': '48%', 'display': 'inline-block'}),\n",
    "                \n",
    "                html.Div([\n",
    "                    html.H1(\"Transaction History\"),\n",
    "                    \n",
    "                    # ---------\n",
    "                    html.Div([\n",
    "                        html.Div(\"From\", \n",
    "                                 style={'width': '10%', \n",
    "                                        'height':'50%',\n",
    "                                        'display': 'block',\n",
    "                                 }),\n",
    "\n",
    "                        html.Div([\n",
    "                            dcc.Dropdown(\n",
    "                                id=\"start-date-transaction\",\n",
    "                                options=[{\"label\": str(i).zfill(2), \"value\": str(i).zfill(2)} for i in range(1, 32)],\n",
    "                                value=today_date.zfill(2),\n",
    "                                clearable=False\n",
    "                            ),\n",
    "                        ], style={'width': '20%', 'display': 'inline-block'}),\n",
    "\n",
    "                        html.Div([\n",
    "                            dcc.Dropdown(\n",
    "                                id=\"start-month-transaction\",\n",
    "                                options=[{\"label\": 'January'  , \"value\": '01'},\n",
    "                                         {\"label\": 'February' , \"value\": '02'},\n",
    "                                         {\"label\": 'March'    , \"value\": '03'},\n",
    "                                         {\"label\": 'April'    , \"value\": '04'},\n",
    "                                         {\"label\": 'May'      , \"value\": '05'},\n",
    "                                         {\"label\": 'June'     , \"value\": '06'},\n",
    "                                         {\"label\": 'July'     , \"value\": '07'},\n",
    "                                         {\"label\": 'August'   , \"value\": '08'},\n",
    "                                         {\"label\": 'September', \"value\": '09'},\n",
    "                                         {\"label\": 'October'  , \"value\": '10'},\n",
    "                                         {\"label\": 'November' , \"value\": '11'},\n",
    "                                         {\"label\": 'December' , \"value\": '12'}],\n",
    "                                value=today_month,\n",
    "                                clearable=False\n",
    "                            ),\n",
    "                        ], style={'width': '35%', 'display': 'inline-block'}),\n",
    "\n",
    "                        html.Div([\n",
    "                            dcc.Dropdown(\n",
    "                                id=\"start-year-transaction\",\n",
    "                                options=[{\"label\": i  , \"value\": i} for i in range(int(first_day_year), datetime.datetime.now().year+1)],\n",
    "                                value=today_year,\n",
    "                                clearable=False\n",
    "                            ),\n",
    "                        ], style={'width': '20%', 'display': 'inline-block'})\n",
    "                    ], style={'width': '25%', 'display': 'inline-block'}),\n",
    "                    #----------\n",
    "                    \n",
    "                    html.Div([\n",
    "                        html.Div(\"To\", \n",
    "                                     style={'width': '10%', \n",
    "                                            'height':'50%',\n",
    "                                            'display': 'block',\n",
    "                                     }),\n",
    "                        html.Div([\n",
    "                            dcc.Dropdown(\n",
    "                                id=\"end-date-transaction\",\n",
    "                                options=[{\"label\": str(i).zfill(2), \"value\": str(i).zfill(2)} for i in range(1, 32)],\n",
    "                                value=today_date,\n",
    "                                clearable=False\n",
    "                            ),\n",
    "                        ], style={'width': '10%', 'display': 'inline-block'}),\n",
    "\n",
    "                        html.Div([\n",
    "                            dcc.Dropdown(\n",
    "                                id=\"end-month-transaction\",\n",
    "                                options=[{\"label\": 'January'  , \"value\": '01'},\n",
    "                                         {\"label\": 'February' , \"value\": '02'},\n",
    "                                         {\"label\": 'March'    , \"value\": '03'},\n",
    "                                         {\"label\": 'April'    , \"value\": '04'},\n",
    "                                         {\"label\": 'May'      , \"value\": '05'},\n",
    "                                         {\"label\": 'June'     , \"value\": '06'},\n",
    "                                         {\"label\": 'July'     , \"value\": '07'},\n",
    "                                         {\"label\": 'August'   , \"value\": '08'},\n",
    "                                         {\"label\": 'September', \"value\": '09'},\n",
    "                                         {\"label\": 'October'  , \"value\": '10'},\n",
    "                                         {\"label\": 'November' , \"value\": '11'},\n",
    "                                         {\"label\": 'December' , \"value\": '12'}],\n",
    "                                value=today_month,\n",
    "                                clearable=False\n",
    "                            ),\n",
    "                        ], style={'width': '18%', 'display': 'inline-block'}),\n",
    "                        \n",
    "                        html.Div([\n",
    "                            dcc.Dropdown(\n",
    "                                id=\"end-year-transaction\",\n",
    "                                options=[{\"label\": i  , \"value\": i} for i in range(int(first_day_year), datetime.datetime.now().year+1)],\n",
    "                                value=first_day_year,\n",
    "                                clearable=False\n",
    "                            ),\n",
    "                        ], style={'width': '10%', 'display': 'inline-block'})\n",
    "                    ], style={'width': '50%', 'display': 'inline-block'}),\n",
    "                    # ---------             \n",
    "\n",
    "                    html.Div([\n",
    "                        html.Div([\n",
    "                            html.Div(\"Type\", \n",
    "                                 style={'width': '10%', \n",
    "                                        'height':'50%',\n",
    "                                        'display': 'block',\n",
    "                                 }),\n",
    "                            \n",
    "                            dcc.Dropdown(\n",
    "                                id=\"transaction-type-filter\",\n",
    "                                options=[{\"label\": i, \"value\": i} for i in transaction_list],\n",
    "                                value='Expenses',\n",
    "                                clearable=False\n",
    "                            ),\n",
    "                        ], style={'width': '8%', 'display': 'inline-block'}),\n",
    "\n",
    "                        html.Div([\n",
    "                            html.Div(\"Category\", \n",
    "                                 style={'width': '10%', \n",
    "                                        'height':'50%',\n",
    "                                        'display': 'block',\n",
    "                                 }),\n",
    "                            \n",
    "                            dcc.Dropdown(\n",
    "                                id=\"transaction-category-filter\",\n",
    "                                value='All',\n",
    "                                clearable=False\n",
    "                            ),\n",
    "                        ], style={'width': '11%', 'display': 'inline-block'}),\n",
    "\n",
    "                        html.Div([\n",
    "                            \n",
    "                            html.Div(\"Sub-category\", \n",
    "                                 style={\n",
    "                                        'display': 'block',\n",
    "                                 }),\n",
    "                            \n",
    "                            dcc.Dropdown(\n",
    "                                id=\"transaction-sub-category-filter\",\n",
    "                                value='All',\n",
    "                                clearable=False\n",
    "                            ),\n",
    "                        ], style={'width': '12%', 'display': 'inline-block'})\n",
    "                    ], style={'display': 'block'}),\n",
    "                    \n",
    "                    # --------\n",
    "                    \n",
    "                    dash_table.DataTable(\n",
    "                            id='transaction-history',\n",
    "                            data=df[display_columns].to_dict('records'),\n",
    "                            columns=[{\"name\": i, \"id\": i} for i in display_columns],\n",
    "                            export_format='xlsx',\n",
    "                            export_headers='display',\n",
    "                            merge_duplicate_headers=True,\n",
    "                            fixed_rows={'headers': True},\n",
    "                            style_table={'height': 400},\n",
    "                            style_cell={\n",
    "                                'minWidth': 80, 'maxWidth': 250, 'width': 95\n",
    "                            }\n",
    "                       ),\n",
    "\n",
    "                   \n",
    "                ]),\n",
    "\n",
    "                html.Br(),    \n",
    "                html.Br(),\n",
    "                html.Br(),\n",
    "                html.Br(),\n",
    "                html.Br(),\n",
    "                html.Br(),\n",
    "                \n",
    "            \n",
    "            ]),\n",
    "            \n",
    "            \n",
    "            \n",
    "            dcc.Tab(label='Accounts', children=[\n",
    "                html.Div([\n",
    "                    html.H2(\"Wallets\"),\n",
    "                    # Cash\n",
    "                    html.Div([\n",
    "                        # image\n",
    "                        html.Div([\n",
    "                            html.Img(\n",
    "                                src=\"/assets/100K_cash.jpeg\",\n",
    "                                height=30\n",
    "                            )\n",
    "                        ], style={'display':'inline-block',\n",
    "                                  \"box-shadow\": \"0 4px 8px 0 rgba(0,0,0,0.2)\",\n",
    "                                  \"border-radius\": \"5px 5px 5px 5px\",\n",
    "                                  \"height\": \"30px\"}),\n",
    "                        \n",
    "                        # amount\n",
    "                        html.Div([\n",
    "                            html.P(f\"VND {money_in_cash():,}\")\n",
    "                        ], style={'display':'inline-block', \n",
    "                                  \"height\": \"30px\", \n",
    "                                  \"text-align\": \"center\",\n",
    "                                  \"float\":\"right\",\n",
    "                                 }),\n",
    "                        \n",
    "                        html.Hr(\n",
    "                            className=\"dashed\"\n",
    "                        ),\n",
    "                        \n",
    "                        html.Div([\n",
    "                            html.H5(\"Cash\")\n",
    "                        ]),\n",
    "                        \n",
    "                    ], style={\"width\":\"200px\",\n",
    "                              \"height\":\"80px\",\n",
    "                              \"box-shadow\": \"0 4px 8px 0 rgba(0,0,0,0.2)\", \n",
    "                              \"border-radius\": \"5px\",\n",
    "                              \"padding\": \"20px 20px\",\n",
    "                              'display':'inline-block',\n",
    "                              \"margin-right\": \"20px\",\n",
    "                              \"margin-bottom\": \"20px\"\n",
    "                              }),\n",
    "                    \n",
    "                    # Home savings\n",
    "                    html.Div([\n",
    "                        # image\n",
    "                        html.Div([\n",
    "                            html.Img(\n",
    "                                src=\"/assets/100K_cash.jpeg\",\n",
    "                                height=30\n",
    "                            )\n",
    "                        ], style={'display':'inline-block',\n",
    "                                  \"box-shadow\": \"0 4px 8px 0 rgba(0,0,0,0.2)\",\n",
    "                                  \"border-radius\": \"5px 5px 5px 5px\",\n",
    "                                  \"height\": \"30px\"}),\n",
    "                        \n",
    "                        # amount\n",
    "                        html.Div([\n",
    "                            html.P(f\"VND {money_in_home():,}\")\n",
    "                        ], style={'display':'inline-block', \n",
    "                                  \"height\": \"30px\", \n",
    "                                  \"text-align\": \"center\",\n",
    "                                  \"float\":\"right\",\n",
    "                                 }),\n",
    "                        \n",
    "                        html.Hr(\n",
    "                            className=\"dashed\"\n",
    "                        ),\n",
    "                        \n",
    "                        html.Div([\n",
    "                            html.H5(\"Cash at Home\")\n",
    "                        ]),\n",
    "                        \n",
    "                    ], style={\"width\":\"200px\",\n",
    "                              \"height\":\"80px\",\n",
    "                              \"box-shadow\": \"0 4px 8px 0 rgba(0,0,0,0.2)\", \n",
    "                              \"border-radius\": \"5px\",\n",
    "                              \"padding\": \"20px 20px\",\n",
    "                              'display':'inline-block',\n",
    "                              \"margin-right\": \"20px\",\n",
    "                              \"margin-bottom\": \"20px\"\n",
    "                             }),\n",
    "                    \n",
    "        \n",
    "                    html.Hr(className=\"dashed\")\n",
    "                ]),\n",
    "                \n",
    "                html.Div([\n",
    "                    html.H2(\"eWallets\"),\n",
    "                    \n",
    "                    # MOCA\n",
    "                    html.Div([\n",
    "                        # image\n",
    "                        html.Div([\n",
    "                            html.Img(\n",
    "                                src=\"/assets/moca.jpeg\",\n",
    "                                height=30\n",
    "                            )\n",
    "                        ], style={'display':'inline-block',\n",
    "                                  \"box-shadow\": \"0 4px 8px 0 rgba(0,0,0,0.2)\",\n",
    "                                  \"border-radius\": \"5px 5px 5px 5px\",\n",
    "                                  \"height\": \"30px\"}),\n",
    "                        \n",
    "                        # amount\n",
    "                        html.Div([\n",
    "                            html.P(f\"VND {money_in_moca():,}\")\n",
    "                        ], style={'display':'inline-block', \n",
    "                                  \"height\": \"30px\", \n",
    "                                  \"text-align\": \"center\",\n",
    "                                  \"float\":\"right\",\n",
    "                                 }),\n",
    "                        \n",
    "                        html.Hr(\n",
    "                            className=\"dashed\"\n",
    "                        ),\n",
    "                        \n",
    "                        html.Div([\n",
    "                            html.H5(\"MOCA\")\n",
    "                        ]),\n",
    "                        \n",
    "                    ], style={\"width\":\"200px\",\n",
    "                              \"height\":\"80px\",\n",
    "                              \"box-shadow\": \"0 4px 8px 0 rgba(0,0,0,0.2)\", \n",
    "                              \"border-radius\": \"5px\",\n",
    "                              \"padding\": \"20px 20px\",\n",
    "                              'display':'inline-block',\n",
    "                              \"margin-right\": \"20px\",\n",
    "                              \"margin-bottom\": \"20px\"\n",
    "                              }),\n",
    "                    \n",
    "                    html.Hr(className=\"dashed\")\n",
    "                ]),\n",
    "                \n",
    "                html.Div([\n",
    "                    html.H2(\"Plastic Cards\"),\n",
    "                    \n",
    "                    # ACB\n",
    "                    html.Div([\n",
    "                        # image\n",
    "                        html.Div([\n",
    "                            html.Img(\n",
    "                                src=\"/assets/acb_card.png\",\n",
    "                                height=30\n",
    "                            )\n",
    "                        ], style={'display':'inline-block',\n",
    "                                  \"box-shadow\": \"0 4px 8px 0 rgba(0,0,0,0.2)\",\n",
    "                                  \"border-radius\": \"5px 5px 5px 5px\",\n",
    "                                  \"height\": \"30px\"}),\n",
    "                        \n",
    "                        # amount\n",
    "                        html.Div([\n",
    "                            html.P(f\"VND {money_in_acb_card():,}\")\n",
    "                        ], style={'display':'inline-block', \n",
    "                                  \"height\": \"30px\", \n",
    "                                  \"text-align\": \"center\",\n",
    "                                  \"float\":\"right\",\n",
    "                                 }),\n",
    "                        \n",
    "                        html.Hr(\n",
    "                            className=\"dashed\"\n",
    "                        ),\n",
    "                        \n",
    "                        html.Div([\n",
    "                            html.H5(\"Fulbright ACB\")\n",
    "                        ]),\n",
    "                        \n",
    "                    ], style={\"width\":\"200px\",\n",
    "                              \"height\":\"80px\",\n",
    "                              \"box-shadow\": \"0 4px 8px 0 rgba(0,0,0,0.2)\", \n",
    "                              \"border-radius\": \"5px\",\n",
    "                              \"padding\": \"20px 20px\",\n",
    "                              'display':'inline-block',\n",
    "                              \"margin-right\": \"20px\",\n",
    "                              \"margin-bottom\": \"20px\"\n",
    "                             }),\n",
    "                    \n",
    "                    # VCB VISA\n",
    "                    html.Div([\n",
    "                        # image\n",
    "                        html.Div([\n",
    "                            html.Img(\n",
    "                                src=\"/assets/visa_card.jpeg\",\n",
    "                                height=30\n",
    "                            )\n",
    "                        ], style={'display':'inline-block',\n",
    "                                  \"box-shadow\": \"0 4px 8px 0 rgba(0,0,0,0.2)\",\n",
    "                                  \"border-radius\": \"5px 5px 5px 5px\",\n",
    "                                  \"height\": \"30px\"}),\n",
    "                        \n",
    "                        # amount\n",
    "                        html.Div([\n",
    "                            html.P(f\"VND {money_in_visa_card():,}\")\n",
    "                        ], style={'display':'inline-block', \n",
    "                                  \"height\": \"30px\", \n",
    "                                  \"text-align\": \"center\",\n",
    "                                  \"float\":\"right\",\n",
    "                                 }),\n",
    "                        \n",
    "                        html.Hr(\n",
    "                            className=\"dashed\"\n",
    "                        ),\n",
    "                        \n",
    "                        html.Div([\n",
    "                            html.H5(\"VISA Card\")\n",
    "                        ]),\n",
    "                        \n",
    "                    ], style={\"width\":\"200px\",\n",
    "                              \"height\":\"80px\",\n",
    "                              \"box-shadow\": \"0 4px 8px 0 rgba(0,0,0,0.2)\", \n",
    "                              \"border-radius\": \"5px\",\n",
    "                              \"padding\": \"20px 20px\",\n",
    "                              'display':'inline-block',\n",
    "                              \"margin-right\": \"20px\",\n",
    "                              \"margin-bottom\": \"20px\"\n",
    "                             }),\n",
    "    \n",
    "                    html.Hr(className=\"dashed\")\n",
    "                ]), \n",
    "                \n",
    "                \n",
    "                html.Div([\n",
    "                    html.H2(\"Savings\"),\n",
    "                    \n",
    "                    # Finhay Profit\n",
    "                    html.Div([\n",
    "                        # image\n",
    "                        html.Div([\n",
    "                            html.Img(\n",
    "                                src=\"/assets/finhay.png\",\n",
    "                                height=30\n",
    "                            )\n",
    "                        ], style={'display':'inline-block',\n",
    "                                  \"box-shadow\": \"0 4px 8px 0 rgba(0,0,0,0.2)\",\n",
    "                                  \"border-radius\": \"5px 5px 5px 5px\",\n",
    "                                  \"height\": \"30px\",\n",
    "                                  \"margin-right\": \"20px\"\n",
    "                                 }),\n",
    "                        \n",
    "                        # amount\n",
    "                        html.Div([\n",
    "                            html.P(f\"VND {money_in_finhay():,}\")\n",
    "                        ], style={'display':'inline-block', \n",
    "                                  \"height\": \"30px\", \n",
    "                                  \"text-align\": \"center\",\n",
    "                                  \"float\":\"right\",\n",
    "                                 }),\n",
    "                        \n",
    "                        html.Hr(\n",
    "                            className=\"dashed\"\n",
    "                        ),\n",
    "                        \n",
    "                        html.Div([\n",
    "                            html.H5(\"Finhay Profits\")\n",
    "                        ]),\n",
    "                        \n",
    "                    ], style={\"width\":\"200px\",\n",
    "                              \"height\":\"80px\",\n",
    "                              \"box-shadow\": \"0 4px 8px 0 rgba(0,0,0,0.2)\", \n",
    "                              \"border-radius\": \"5px\",\n",
    "                              \"padding\": \"20px 20px\",\n",
    "                              'display':'inline-block',\n",
    "                              \"margin-right\": \"20px\",\n",
    "                              \"margin-bottom\": \"20px\"\n",
    "                              }),\n",
    "                    \n",
    "                    # 3-month savings\n",
    "                    html.Div([\n",
    "                        # image\n",
    "                        html.Div([\n",
    "                            html.Img(\n",
    "                                src=\"/assets/finhay.png\",\n",
    "                                height=30\n",
    "                            )\n",
    "                        ], style={'display':'inline-block',\n",
    "                                  \"box-shadow\": \"0 4px 8px 0 rgba(0,0,0,0.2)\",\n",
    "                                  \"border-radius\": \"5px 5px 5px 5px\",\n",
    "                                  \"height\": \"30px\"}),\n",
    "                        \n",
    "                        # amount\n",
    "                        html.Div([\n",
    "                            html.P(f\"VND {money_in_finhay():,}\")\n",
    "                        ], style={'display':'inline-block', \n",
    "                                  \"height\": \"30px\", \n",
    "                                  \"text-align\": \"center\",\n",
    "                                  \"float\":\"right\",\n",
    "                                 }),\n",
    "                        \n",
    "                        html.Hr(\n",
    "                            className=\"dashed\"\n",
    "                        ),\n",
    "                        \n",
    "                        html.Div([\n",
    "                            html.H5(\"3-Month Savings\")\n",
    "                        ]),\n",
    "                        \n",
    "                    ], style={\"width\":\"200px\",\n",
    "                              \"height\":\"80px\",\n",
    "                              \"box-shadow\": \"0 4px 8px 0 rgba(0,0,0,0.2)\", \n",
    "                              \"border-radius\": \"5px\",\n",
    "                              \"padding\": \"20px 20px\",\n",
    "                              'display':'inline-block',\n",
    "                              \"margin-right\": \"20px\",\n",
    "                              \"margin-bottom\": \"20px\"\n",
    "                              }),\n",
    "                    \n",
    "                    # Finhay Gold\n",
    "                    html.Div([\n",
    "                        # image\n",
    "                        html.Div([\n",
    "                            html.Img(\n",
    "                                src=\"/assets/finhay.png\",\n",
    "                                height=30\n",
    "                            )\n",
    "                        ], style={'display':'inline-block',\n",
    "                                  \"box-shadow\": \"0 4px 8px 0 rgba(0,0,0,0.2)\",\n",
    "                                  \"border-radius\": \"5px 5px 5px 5px\",\n",
    "                                  \"height\": \"30px\"}),\n",
    "                        \n",
    "                        # amount\n",
    "                        html.Div([\n",
    "                            html.P(f\"VND {money_in_finhay():,}\")\n",
    "                        ], style={'display':'inline-block', \n",
    "                                  \"height\": \"30px\", \n",
    "                                  \"text-align\": \"center\",\n",
    "                                  \"float\":\"right\",\n",
    "                                 }),\n",
    "                        \n",
    "                        html.Hr(\n",
    "                            className=\"dashed\"\n",
    "                        ),\n",
    "                        \n",
    "                        html.Div([\n",
    "                            html.H5(\"Gold\")\n",
    "                        ]),\n",
    "                        \n",
    "                    ], style={\"width\":\"200px\",\n",
    "                              \"height\":\"80px\",\n",
    "                              \"box-shadow\": \"0 4px 8px 0 rgba(0,0,0,0.2)\", \n",
    "                              \"border-radius\": \"5px\",\n",
    "                              \"padding\": \"20px 20px\",\n",
    "                              'display':'inline-block',\n",
    "                              \"margin-right\": \"20px\",\n",
    "                              \"margin-bottom\": \"20px\"\n",
    "                              }),\n",
    "                    \n",
    "                    # Macbook savings\n",
    "                    html.Div([\n",
    "                        # image\n",
    "                        html.Div([\n",
    "                            html.Img(\n",
    "                                src=\"/assets/finhay.png\",\n",
    "                                height=30\n",
    "                            )\n",
    "                        ], style={'display':'inline-block',\n",
    "                                  \"box-shadow\": \"0 4px 8px 0 rgba(0,0,0,0.2)\",\n",
    "                                  \"border-radius\": \"5px 5px 5px 5px\",\n",
    "                                  \"height\": \"30px\"}),\n",
    "                        \n",
    "                        # amount\n",
    "                        html.Div([\n",
    "                            html.P(f\"VND {money_in_finhay():,}\")\n",
    "                        ], style={'display':'inline-block', \n",
    "                                  \"height\": \"30px\", \n",
    "                                  \"text-align\": \"center\",\n",
    "                                  \"float\":\"right\",\n",
    "                                 }),\n",
    "                        \n",
    "                        html.Hr(\n",
    "                            className=\"dashed\"\n",
    "                        ),\n",
    "                        \n",
    "                        html.Div([\n",
    "                            html.H5(\"Macbook\")\n",
    "                        ]),\n",
    "                        \n",
    "                    ], style={\"width\":\"200px\",\n",
    "                              \"height\":\"130px\",\n",
    "                              \"box-shadow\": \"0 4px 8px 0 rgba(0,0,0,0.2)\", \n",
    "                              \"border-radius\": \"5px\",\n",
    "                              \"padding\": \"20px 20px\",\n",
    "                              'display':'inline-block',\n",
    "                              \"margin-right\": \"20px\",\n",
    "                              \"margin-bottom\": \"20px\"\n",
    "                              }),\n",
    "                    \n",
    "                    # Emergency savings\n",
    "                    html.Div([\n",
    "                        # image\n",
    "                        html.Div([\n",
    "                            html.Img(\n",
    "                                src=\"/assets/finhay.png\",\n",
    "                                height=30\n",
    "                            )\n",
    "                        ], style={'display':'inline-block',\n",
    "                                  \"box-shadow\": \"0 4px 8px 0 rgba(0,0,0,0.2)\",\n",
    "                                  \"border-radius\": \"5px 5px 5px 5px\",\n",
    "                                  \"height\": \"30px\"}),\n",
    "                        \n",
    "                        # amount\n",
    "                        html.Div([\n",
    "                            html.P(f\"VND {money_in_finhay():,}\")\n",
    "                        ], style={'display':'inline-block', \n",
    "                                  \"height\": \"30px\", \n",
    "                                  \"text-align\": \"center\",\n",
    "                                  \"float\":\"right\",\n",
    "                                 }),\n",
    "                        \n",
    "                        html.Hr(\n",
    "                            className=\"dashed\"\n",
    "                        ),\n",
    "                        \n",
    "                        html.Div([\n",
    "                            html.H5(\"Emergency\")\n",
    "                        ]),\n",
    "                        \n",
    "                    ], style={\"width\":\"200px\",\n",
    "                              \"height\":\"80px\",\n",
    "                              \"box-shadow\": \"0 4px 8px 0 rgba(0,0,0,0.2)\", \n",
    "                              \"border-radius\": \"5px\",\n",
    "                              \"padding\": \"20px 20px\",\n",
    "                              'display':'inline-block',\n",
    "                              \"margin-right\": \"20px\",\n",
    "                              \"margin-bottom\": \"20px\"\n",
    "                              }),\n",
    "                    \n",
    "                    # Donation savings\n",
    "                    html.Div([\n",
    "                        # image\n",
    "                        html.Div([\n",
    "                            html.Img(\n",
    "                                src=\"/assets/finhay.png\",\n",
    "                                height=30\n",
    "                            )\n",
    "                        ], style={'display':'inline-block',\n",
    "                                  \"box-shadow\": \"0 4px 8px 0 rgba(0,0,0,0.2)\",\n",
    "                                  \"border-radius\": \"5px 5px 5px 5px\",\n",
    "                                  \"height\": \"30px\"}),\n",
    "                        \n",
    "                        # amount\n",
    "                        html.Div([\n",
    "                            html.P(f\"VND {money_in_finhay():,}\")\n",
    "                        ], style={'display':'inline-block', \n",
    "                                  \"height\": \"30px\", \n",
    "                                  \"text-align\": \"center\",\n",
    "                                  \"float\":\"right\",\n",
    "                                 }),\n",
    "                        \n",
    "                        html.Hr(\n",
    "                            className=\"dashed\"\n",
    "                        ),\n",
    "                        \n",
    "                        html.Div([\n",
    "                            html.H5(\"Donation\")\n",
    "                        ]),\n",
    "                        \n",
    "                    ], style={\"width\":\"200px\",\n",
    "                              \"height\":\"80px\",\n",
    "                              \"box-shadow\": \"0 4px 8px 0 rgba(0,0,0,0.2)\", \n",
    "                              \"border-radius\": \"5px\",\n",
    "                              \"padding\": \"20px 20px\",\n",
    "                              'display':'inline-block',\n",
    "                              \"margin-right\": \"20px\",\n",
    "                              \"margin-bottom\": \"20px\"\n",
    "                              }),\n",
    "                    \n",
    "                    html.Hr(className=\"dashed\")\n",
    "                ])\n",
    "            ]),\n",
    "            \n",
    "            dcc.Tab(id='tab', value='tab', label=\"Entry\", children=[\n",
    "                    \n",
    "                html.H1(\"Add New Entry\"),\n",
    "                dash_table.DataTable(\n",
    "                            id='entry-db-table',\n",
    "                            data=df[display_columns].iloc[::-1].to_dict('records'),\n",
    "                            columns=[{\"name\": i, \"id\": i} for i in display_columns],\n",
    "                            editable=True,\n",
    "                            page_size=10,\n",
    "#                             fixed_rows={'headers': True},\n",
    "#                             style_table={'height': 400},\n",
    "                            style_cell={\n",
    "                                        'minWidth': 80, 'maxWidth': 250, 'width': 80\n",
    "                            }\n",
    "                       ),\n",
    "                                \n",
    "                html.Br(),\n",
    "                \n",
    "                dcc.RadioItems(\n",
    "                    id='entry-radio-button',\n",
    "                    options=[\n",
    "                        {'label': 'Add New Entry', 'value': 'add'},\n",
    "                        {'label': 'Remove Entry', 'value': 'remove'}\n",
    "                    ],\n",
    "                    value='add',\n",
    "                    labelStyle={'display': 'inline-block'}\n",
    "                ),\n",
    "                \n",
    "                html.Br(),\n",
    "                # ---\n",
    "                \n",
    "                html.Div(id='entry-option-display'),\n",
    "                # ---\n",
    "                   \n",
    "            ]),\n",
    "            \n",
    "            \n",
    "            \n",
    "            dcc.Tab(label='More Information', children=[\n",
    "                \n",
    "                html.Div([\n",
    "                    dcc.Markdown(info_content)\n",
    "                ])\n",
    "\n",
    "            ])\n",
    "        ])\n",
    "            ,\n",
    "    \n",
    "    ])\n",
    "\n",
    "])\n",
    "\n",
    "# category pie chart\n",
    "@app.callback(\n",
    "    Output(\"category-pie\", \"figure\"), \n",
    "    [Input(\"start-date-pie\", \"value\"), \n",
    "     Input(\"start-month-pie\", \"value\"),\n",
    "     Input(\"start-year-pie\", \"value\"), \n",
    "     Input(\"end-date-pie\", \"value\"),\n",
    "     Input(\"end-month-pie\", \"value\"), \n",
    "     Input(\"end-year-pie\", \"value\")]\n",
    ")\n",
    "def display_category_pie_chart(start_date, start_month, start_year,\n",
    "                               end_date, end_month, end_year):\n",
    "\n",
    "    return create_category_pie_chart(df, f\"{start_year}-{start_month}-{start_date}\", \n",
    "                                         f\"{end_year}-{end_month}-{end_date}\")\n",
    "\n",
    "# cumulative expenses\n",
    "@app.callback(\n",
    "    Output(\"cumulative_monthly_expenses\", \"figure\"), \n",
    "    [Input(\"month_cumulative\", \"value\"), Input(\"year_cumulative\", \"value\")]\n",
    ")\n",
    "def display_cumulative_monthly_expenses(month_cumulative, year_cumulative):\n",
    "    \n",
    "    return create_cumulative_monthly_expenses_plot(df, year_cumulative, month_cumulative)\n",
    "\n",
    "# daily expenses\n",
    "@app.callback(\n",
    "    Output(\"daily_expenses\", \"figure\"), \n",
    "    [Input(\"month_daily\", \"value\"), Input(\"year_daily\", \"value\")]\n",
    ")\n",
    "def display_daily_expenses(month_daily, year_daily):\n",
    "    \n",
    "    return create_daily_expenses_plot(df, year_daily, month_daily)\n",
    "\n",
    "# update category list when transaction_type changes\n",
    "@app.callback(\n",
    "    Output(\"transaction-category-filter\", \"options\"), \n",
    "    [Input(\"transaction-type-filter\", \"value\")]\n",
    ")\n",
    "def create_list_for_transaction_category(transaction_type):\n",
    "    if transaction_type == 'All':\n",
    "        transaction_category = df['category'].unique().tolist()\n",
    "        transaction_category = ['All'] + transaction_category\n",
    "    else:\n",
    "        transaction_category = df[df['transaction_type'] == transaction_type]['category'].unique().tolist()\n",
    "        transaction_category = ['All'] + transaction_category\n",
    "    \n",
    "    return [{\"label\": i, \"value\": i} for i in transaction_category]\n",
    "\n",
    "# update sub-category list when category changes\n",
    "@app.callback(\n",
    "    Output(\"transaction-sub-category-filter\", \"options\"), \n",
    "    [Input(\"transaction-type-filter\", \"value\"),\n",
    "     Input(\"transaction-category-filter\", \"value\")]\n",
    ")\n",
    "def create_list_for_transaction_sub_category(transaction_type, category):\n",
    "    if transaction_type == 'All':\n",
    "        transaction_sub_category = df['sub_category'].unique().tolist()\n",
    "        transaction_sub_category = ['All'] + transaction_sub_category\n",
    "        \n",
    "    elif category == 'All':\n",
    "        transaction_sub_category = df[(df['transaction_type'] == transaction_type)]['sub_category'].unique().tolist()\n",
    "        transaction_sub_category = ['All'] + transaction_sub_category\n",
    "    else:\n",
    "        transaction_sub_category = df[(df['transaction_type'] == transaction_type) & ((df['category'] == category))]['sub_category'].unique().tolist()\n",
    "        transaction_sub_category = ['All'] + transaction_sub_category\n",
    "    \n",
    "    return [{\"label\": i, \"value\": i} for i in transaction_sub_category]\n",
    "\n",
    "\n",
    "# default All when new option\n",
    "@app.callback(\n",
    "    Output(\"transaction-category-filter\", \"value\"), \n",
    "    [Input(\"transaction-type-filter\", \"value\")]\n",
    ")\n",
    "def default_all_category(transaction_type):\n",
    "    return \"All\"\n",
    "\n",
    "# reset transaction_type when update category\n",
    "# UPDATE: wont do because will create dependency cycle: \n",
    "# transaction-type-filter.value -> transaction-category-filter.value -> transaction-type-filter.value\n",
    "\n",
    "# default All when new option\n",
    "@app.callback(\n",
    "    Output(\"transaction-sub-category-filter\", \"value\"), \n",
    "    [Input(\"transaction-type-filter\", \"value\"),\n",
    "     Input(\"transaction-category-filter\", \"value\")]\n",
    ")\n",
    "def default_all_sub_category(transaction_type, category):\n",
    "    return \"All\"\n",
    "\n",
    "# transaction history\n",
    "@app.callback(\n",
    "    Output(\"transaction-history\", \"data\"), \n",
    "    [Input(\"start-date-transaction\", \"value\"), \n",
    "     Input(\"start-month-transaction\", \"value\"),\n",
    "     Input(\"start-year-transaction\", \"value\"), \n",
    "     Input(\"end-date-transaction\", \"value\"),\n",
    "     Input(\"end-month-transaction\", \"value\"), \n",
    "     Input(\"end-year-transaction\", \"value\"),\n",
    "     Input(\"transaction-type-filter\", \"value\"),\n",
    "     Input(\"transaction-category-filter\", \"value\"),\n",
    "     Input(\"transaction-sub-category-filter\", \"value\")]\n",
    ")\n",
    "def display_daily_expenses(start_date, start_month, start_year,\n",
    "                           end_date, end_month, end_year,\n",
    "                           transaction_type,\n",
    "                           category,\n",
    "                           sub_category):\n",
    "    \n",
    "    transaction_df = df.copy()\n",
    "    transaction_df['date'] = pd.to_datetime(transaction_df['date'])\n",
    "    start_day = f\"{start_year}-{start_month}-{start_date}\"\n",
    "    end_day = f\"{end_year}-{end_month}-{end_date}\"\n",
    "\n",
    "    transaction_df = transaction_df[(transaction_df['date'] >= start_day) & (transaction_df['date'] <= end_day)]\n",
    "    \n",
    "    transaction_df['date'] = transaction_df['date'].apply(lambda x: x.strftime('%Y-%m-%d'))\n",
    "    \n",
    "    if transaction_type != \"All\":\n",
    "        transaction_df = transaction_df[transaction_df['transaction_type'] == transaction_type]\n",
    "        \n",
    "    if category != \"All\":\n",
    "        transaction_df = transaction_df[transaction_df['category'] == category]\n",
    "        \n",
    "    if sub_category != \"All\":\n",
    "        transaction_df = transaction_df[transaction_df['sub_category'] == sub_category]\n",
    "        \n",
    "    transaction_df = transaction_df.append(transaction_df.sum(numeric_only=True), ignore_index=True)\n",
    "    \n",
    "    transaction_df.loc[len(transaction_df)-1, 'date'] = 'Sum'\n",
    "    \n",
    "    # cast from float to int to format\n",
    "    transaction_df['amount'] = transaction_df['amount'].astype('int64')\n",
    "    transaction_df['amount'] = transaction_df['amount'].map('{:,d}'.format)\n",
    "    return transaction_df.to_dict('records')\n",
    "\n",
    "# add a new entry row to preview table\n",
    "@app.callback(\n",
    "    Output('entry-preview-table-add', 'data'),\n",
    "    Input('entry-enter', 'n_clicks'),\n",
    "    State('entry-preview-table-add', 'data'),\n",
    "    State('entry-preview-table-add', 'columns'),\n",
    "    State('entry-date', 'date'),\n",
    "    State('entry-transaction-type', 'value'),\n",
    "    State('entry-category', 'value'),\n",
    "    State('entry-sub-category', 'value'),\n",
    "    State('entry-amount', 'value'),\n",
    "    State('entry-currency', 'value'),\n",
    "    State('entry-note', 'value'),\n",
    "    State('entry-in-out', 'value'))\n",
    "def add_row_to_preview_table(n_clicks, rows, columns,\n",
    "            date, transaction_type, category, sub_category, amount, currency, note, in_out):\n",
    "    sign = ''\n",
    "    if in_out == \"Cash Out\":\n",
    "        sign = '-'\n",
    "        \n",
    "    date = date.split('T')[0]\n",
    "    [year, month, day] = map(int, date.split('-'))\n",
    "    weekday = datetime.date(year, month, day).strftime('%A')\n",
    "    \n",
    "    if note == None:\n",
    "        note = ''\n",
    "    \n",
    "    if n_clicks > 0:\n",
    "        \n",
    "        new_entry_df = pd.DataFrame({\n",
    "                            'date' : f\"{date}\",\n",
    "                            'date_of_week' : f\"{weekday}\",\n",
    "                            'currency' : f\"{currency}\",\n",
    "                            'transaction_type' : f\"{transaction_type}\",\n",
    "                            'category' : f\"{category}\",\n",
    "                            'sub_category' : f\"{sub_category}\",\n",
    "                            'amount' : f\"{sign}{amount}\",\n",
    "                            'note' : f\"{note}\"\n",
    "                        }, index=[0])\n",
    "        \n",
    "        if rows == None:\n",
    "            sum_df = new_entry_df\n",
    "        else: \n",
    "            sum_df = pd.DataFrame.from_records(rows).iloc[:-1]\n",
    "            sum_df = sum_df.append(new_entry_df)\n",
    "            \n",
    "        sum_df['amount'] = sum_df['amount'].astype('int64')\n",
    "        sum_df = sum_df.append(sum_df.sum(numeric_only=True), ignore_index=True)\n",
    "    \n",
    "        sum_df.loc[len(sum_df)-1, 'date'] = 'Sum'\n",
    "        \n",
    "        return sum_df.to_dict(\"records\")\n",
    "\n",
    "# save to database add\n",
    "@app.callback(\n",
    "    Output('entry-db-table', 'data'),\n",
    "    Input('entry-save-add', 'n_clicks'),\n",
    "    State('entry-preview-table-add', 'data'),\n",
    "    \n",
    "    Input('entry-save-remove', 'n_clicks'),\n",
    "    State('entry-preview-table-remove', 'data'),\n",
    "    State(\"entry-start-date-remove\", \"value\"), \n",
    "     State(\"entry-start-month-remove\", \"value\"),\n",
    "     State(\"entry-start-year-remove\", \"value\"), \n",
    "     State(\"entry-end-date-remove\", \"value\"),\n",
    "     State(\"entry-end-month-remove\", \"value\"), \n",
    "     State(\"entry-end-year-remove\", \"value\"))\n",
    "    \n",
    "def update_entry_table(n_clicks_add, rows_add,\n",
    "                      n_clicks_remove, rows_remove, \n",
    "                       start_date, start_month, start_year,\n",
    "                       end_date, end_month, end_year):\n",
    "     \n",
    "    if n_clicks_add > 0: \n",
    "        rows = rows_add\n",
    "        new_entry_df = pd.DataFrame.from_records(rows).iloc[:-1]\n",
    "        database_df = pd.read_csv(database_name)\n",
    "        database_df = database_df.append(new_entry_df)\n",
    "        \n",
    "        database_df['Date'] = pd.to_datetime(database_df['date'])\n",
    "        database_df.sort_values(by=['Date'], inplace=True)\n",
    "        database_df.drop(columns = [\"Date\"], inplace=True)\n",
    "        \n",
    "        database_df.to_csv(database_name, index=False)\n",
    "        \n",
    "    if n_clicks_remove > 0: \n",
    "        rows = rows_remove\n",
    "        old_entry = df.copy()\n",
    "        old_entry['date'] = pd.to_datetime(old_entry['date'])\n",
    "        start_day = f\"{start_year}-{start_month}-{start_date}\"\n",
    "        end_day = f\"{end_year}-{end_month}-{end_date}\"\n",
    "\n",
    "        old_entry = old_entry[(old_entry['date'] >= start_day) & \n",
    "                                              (old_entry['date'] <= end_day)]\n",
    "\n",
    "        old_entry['date'] = old_entry['date'].apply(lambda x: x.strftime('%Y-%m-%d'))\n",
    "    \n",
    "        \n",
    "        new_entry = pd.DataFrame.from_records(rows).iloc[:-1]\n",
    "        \n",
    "        \n",
    "        database_df = pd.read_csv(database_name)\n",
    "        database_df = pd.concat([old_entry, database_df]).drop_duplicates(keep=False)\n",
    "\n",
    "        database_df = database_df.append(new_entry)\n",
    "        \n",
    "        database_df['Date'] = pd.to_datetime(database_df['date'])\n",
    "        database_df.sort_values(by=['Date'], inplace=True)\n",
    "        database_df.drop(columns = [\"Date\"], inplace=True)\n",
    "        \n",
    "        database_df.to_csv(database_name, index=False)\n",
    "    return database_df[display_columns].iloc[::-1].to_dict('records')\n",
    "\n",
    "\n",
    "# refresh entry (amount) after saving\n",
    "@app.callback(\n",
    "    Output('entry-amount', 'value'),\n",
    "    Input('entry-save-add', 'n_clicks'))\n",
    "def add_row(n_clicks):\n",
    "    if n_clicks > 0:\n",
    "        return ''\n",
    "    \n",
    "# refresh entry (note) after saving\n",
    "@app.callback(\n",
    "    Output('entry-note', 'value'),\n",
    "    Input('entry-save-add', 'n_clicks'))\n",
    "def add_row(n_clicks):\n",
    "    if n_clicks > 0:\n",
    "        return ''\n",
    "    \n",
    "# update category list when transaction type changes\n",
    "@app.callback(\n",
    "    Output(\"entry-category\", \"options\"), \n",
    "    [Input(\"entry-transaction-type\", \"value\")]\n",
    ")\n",
    "def create_list_for_transaction_category(transaction_type):\n",
    "    transaction_category = df[df['transaction_type'] == transaction_type]['category'].unique().tolist()\n",
    "    \n",
    "    return [{\"label\": i, \"value\": i} for i in transaction_category]\n",
    "\n",
    "# update sub-category list when category changes\n",
    "@app.callback(\n",
    "    Output(\"entry-sub-category\", \"options\"), \n",
    "    [Input(\"entry-transaction-type\", \"value\"),\n",
    "     Input(\"entry-category\", \"value\")]\n",
    ")\n",
    "def create_list_for_transaction_sub_category(transaction_type, category):\n",
    "    transaction_sub_category = df[(df['transaction_type'] == transaction_type) & ((df['category'] == category))]['sub_category'].unique().tolist()\n",
    "    \n",
    "    return [{\"label\": i, \"value\": i} for i in transaction_sub_category]\n",
    "\n",
    "# enable/disable enter button before amount is filled\n",
    "@app.callback(\n",
    "    Output(\"entry-enter\", \"disabled\"), \n",
    "    [Input(\"entry-sub-category\", \"value\"),\n",
    "     Input(\"entry-category\", \"value\"),\n",
    "     Input(\"entry-amount\", \"value\")]\n",
    ")\n",
    "def enable_entry_enter_button(sub_category, category, amount):\n",
    "    if (sub_category == None) or (category==None) or (amount==None):\n",
    "        return True\n",
    "    else:\n",
    "        return False\n",
    "\n",
    "# disable save to database button in add when there is entry\n",
    "@app.callback(\n",
    "    Output(\"entry-save-add\", \"disabled\"), \n",
    "    [Input(\"entry-preview-table-add\", \"data\")]\n",
    ")\n",
    "def enable_entry_enter_button(rows):\n",
    "    if rows == None:\n",
    "        return True\n",
    "    else:\n",
    "        return False\n",
    "\n",
    "# display remove preview table and update sum when table changes\n",
    "@app.callback(\n",
    "    Output(\"entry-preview-table-remove\", \"data\"), \n",
    "    [Input(\"entry-start-date-remove\", \"value\"), \n",
    "     Input(\"entry-start-month-remove\", \"value\"),\n",
    "     Input(\"entry-start-year-remove\", \"value\"), \n",
    "     Input(\"entry-end-date-remove\", \"value\"),\n",
    "     Input(\"entry-end-month-remove\", \"value\"), \n",
    "     Input(\"entry-end-year-remove\", \"value\"),\n",
    "#      Input('entry-preview-table-remove', 'data_previous'),\n",
    "#      State('entry-preview-table-remove', 'data')\n",
    "    ]\n",
    ")\n",
    "def display_remove_preview_table(start_date, start_month, start_year,\n",
    "                                 end_date, end_month, end_year,\n",
    "#                                  data_previous, data\n",
    "                                ):\n",
    "      \n",
    "    \n",
    "    remove_preview_df = df.copy()\n",
    "    remove_preview_df['date'] = pd.to_datetime(remove_preview_df['date'])\n",
    "    start_day = f\"{start_year}-{start_month}-{start_date}\"\n",
    "    end_day = f\"{end_year}-{end_month}-{end_date}\"\n",
    "\n",
    "    remove_preview_df = remove_preview_df[(remove_preview_df['date'] >= start_day) & \n",
    "                                          (remove_preview_df['date'] <= end_day)]\n",
    "\n",
    "    remove_preview_df['date'] = remove_preview_df['date'].apply(lambda x: x.strftime('%Y-%m-%d'))\n",
    "    \n",
    "    # update sum when table changes\n",
    "#     if data_previous != data:\n",
    "#         remove_preview_df = pd.DataFrame.from_records(data).iloc[:-1]\n",
    "    \n",
    "    \n",
    "    remove_preview_df = remove_preview_df.append(remove_preview_df.sum(numeric_only=True), ignore_index=True)\n",
    "    \n",
    "    remove_preview_df.loc[len(remove_preview_df)-1, 'date'] = 'Sum'\n",
    "    \n",
    "    return remove_preview_df.to_dict('records')\n",
    "    \n",
    "\n",
    "\n",
    "# add entry radio button\n",
    "@app.callback(\n",
    "    Output(\"entry-option-display\", \"children\"), \n",
    "    [Input(\"entry-radio-button\", \"value\")]\n",
    ")\n",
    "def display_add_remove_panel(value):\n",
    "    if value == 'add':\n",
    "        return html.Div([\n",
    "            html.Div([\n",
    "                html.Div(\"On Date\", \n",
    "                    style={'display':'block'}\n",
    "                ),\n",
    "\n",
    "                dcc.DatePickerSingle(\n",
    "                        id='entry-date',\n",
    "                        min_date_allowed=datetime.date(2001, 6, 4),\n",
    "                        max_date_allowed=datetime.datetime.now(),\n",
    "                        initial_visible_month=datetime.datetime.now(),\n",
    "                        date=datetime.datetime.now(),\n",
    "                        display_format='DD/MM/YYYY'\n",
    "                ),\n",
    "            ], style={'display':'inline-block', 'float':'left'}),\n",
    "\n",
    "            html.Div([\n",
    "                html.Div(\"Cash In/Out\", \n",
    "                     style={\n",
    "                        'display': 'block',\n",
    "                     }),\n",
    "\n",
    "                dcc.Dropdown(\n",
    "                    id=\"entry-in-out\",\n",
    "                    options=[{\"label\": i, \"value\": i} for i in ['Cash In', 'Cash Out']],\n",
    "                    value='Cash In',\n",
    "                    clearable=False\n",
    "                ),\n",
    "            ], style={'width':'10%', 'display': 'inline-block', 'float':'left'}),\n",
    "\n",
    "            html.Div([\n",
    "                html.Div(\"Type\", \n",
    "                     style={\n",
    "                        'display': 'block',\n",
    "                     }),\n",
    "\n",
    "                dcc.Dropdown(\n",
    "                    id=\"entry-transaction-type\",\n",
    "                    options=[{\"label\": i, \"value\": i} for i in df['transaction_type'].unique()],\n",
    "                    value='Expenses',\n",
    "                    clearable=False\n",
    "                ),\n",
    "            ], style={'width':'10%', 'display': 'inline-block', 'float':'left'}),\n",
    "\n",
    "            html.Div([\n",
    "                html.Div(\"Category\", \n",
    "                     style={\n",
    "                        'display': 'block',\n",
    "                     }),\n",
    "\n",
    "                dcc.Dropdown(\n",
    "                    id=\"entry-category\",\n",
    "                    clearable=False\n",
    "                ),\n",
    "            ], style={'width': '10%', 'display': 'inline-block', 'float':'left'}),\n",
    "\n",
    "            html.Div([\n",
    "                html.Div(\"Sub-category\", \n",
    "                     style={\n",
    "                        'display': 'block',\n",
    "                     }),\n",
    "\n",
    "                dcc.Dropdown(\n",
    "                    id=\"entry-sub-category\",\n",
    "                    clearable=False\n",
    "                ),\n",
    "            ], style={'width': '10%', 'display': 'inline-block', 'float':'left'}),\n",
    "\n",
    "            html.Div([\n",
    "\n",
    "                html.Div(\"Amount\", \n",
    "                     style={\n",
    "                        'display': 'block',\n",
    "                     }),\n",
    "\n",
    "                dcc.Input(\n",
    "                    id=\"entry-amount\",\n",
    "                    type='number'\n",
    "                ),\n",
    "            ], style={'width': '10%', 'display': 'inline-block', 'float':'left', \n",
    "                      'margin-right':'50px',\n",
    "                      'margin-left': '5px'}),\n",
    "\n",
    "            html.Div([\n",
    "                html.Div(\"Currency\", \n",
    "                     style={\n",
    "                        'display': 'block',\n",
    "                     }),\n",
    "\n",
    "                dcc.Dropdown(\n",
    "                    id=\"entry-currency\",\n",
    "                    options=[{\"label\": i, \"value\": i} for i in df['currency'].unique()],\n",
    "                    value=df['currency'].unique()[0],\n",
    "                    clearable=False\n",
    "                ),\n",
    "            ], style={'width': '10%', 'display': 'inline-block', 'float':'left'}),\n",
    "\n",
    "            html.Div([\n",
    "\n",
    "                html.Div(\"Note\", \n",
    "                     style={\n",
    "                        'display': 'block',\n",
    "                     }),\n",
    "\n",
    "                dcc.Input(\n",
    "                    id=\"entry-note\",\n",
    "                    type='text',\n",
    "                ),\n",
    "            ], style={'width': '10%', 'display': 'inline-block', 'margin-right':'50px'}),\n",
    "\n",
    "            html.Div([\n",
    "                html.Div(\". \", \n",
    "                     style={\n",
    "                        'display': 'block',\n",
    "                     }),\n",
    "                html.Button(\"Enter\", \n",
    "                            id='entry-enter', \n",
    "                            n_clicks=0,\n",
    "                            disabled = True)  \n",
    "            ], style={'display':'inline-block', 'float':'right'}),\n",
    "\n",
    "\n",
    "            html.Br(),\n",
    "            dash_table.DataTable(\n",
    "                    id='entry-preview-table-add',\n",
    "#                             data=df[display_columns].iloc[::-1].to_dict('records'),\n",
    "                    columns=[{\"name\": i, \"id\": i} for i in display_columns],\n",
    "                    editable=True,\n",
    "                    page_size=10,\n",
    "                    style_cell={\n",
    "                        'minWidth': 80, 'maxWidth': 250, 'width': 80\n",
    "                    },\n",
    "                    row_deletable=True,\n",
    "               ),\n",
    "\n",
    "\n",
    "            html.Br(),\n",
    "\n",
    "            html.Button('Save to Database', \n",
    "                        id='entry-save-add', \n",
    "                        n_clicks=0, \n",
    "                        style={'display':'block'},\n",
    "                        disabled=True),\n",
    "            \n",
    "            html.Br(),\n",
    "            html.Br(),\n",
    "            html.Br(),\n",
    "        ])\n",
    "            \n",
    "    else:\n",
    "        return html.Div([\n",
    "\n",
    "            html.Div([\n",
    "                html.Div(\"From\", \n",
    "                         style={'width': '10%', \n",
    "                                'height':'50%',\n",
    "                                'display': 'block',\n",
    "                         }),\n",
    "\n",
    "                html.Div([\n",
    "                    dcc.Dropdown(\n",
    "                        id=\"entry-start-date-remove\",\n",
    "                        options=[{\"label\": str(i).zfill(2), \"value\": str(i).zfill(2)} for i in range(1, 32)],\n",
    "                        value=today_date.zfill(2),\n",
    "                        clearable=False\n",
    "                    ),\n",
    "                ], style={'width': '20%', 'display': 'inline-block'}),\n",
    "\n",
    "                html.Div([\n",
    "                    dcc.Dropdown(\n",
    "                        id=\"entry-start-month-remove\",\n",
    "                        options=[{\"label\": 'January'  , \"value\": '01'},\n",
    "                                 {\"label\": 'February' , \"value\": '02'},\n",
    "                                 {\"label\": 'March'    , \"value\": '03'},\n",
    "                                 {\"label\": 'April'    , \"value\": '04'},\n",
    "                                 {\"label\": 'May'      , \"value\": '05'},\n",
    "                                 {\"label\": 'June'     , \"value\": '06'},\n",
    "                                 {\"label\": 'July'     , \"value\": '07'},\n",
    "                                 {\"label\": 'August'   , \"value\": '08'},\n",
    "                                 {\"label\": 'September', \"value\": '09'},\n",
    "                                 {\"label\": 'October'  , \"value\": '10'},\n",
    "                                 {\"label\": 'November' , \"value\": '11'},\n",
    "                                 {\"label\": 'December' , \"value\": '12'}],\n",
    "                        value=today_month,\n",
    "                        clearable=False\n",
    "                    ),\n",
    "                ], style={'width': '35%', 'display': 'inline-block'}),\n",
    "\n",
    "                html.Div([\n",
    "                    dcc.Dropdown(\n",
    "                        id=\"entry-start-year-remove\",\n",
    "                        options=[{\"label\": i  , \"value\": i} for i in range(int(first_day_year), datetime.datetime.now().year+1)],\n",
    "                        value=today_year,\n",
    "                        clearable=False\n",
    "                    ),\n",
    "                ], style={'width': '20%', 'display': 'inline-block'})\n",
    "            ], style={'width': '25%', 'display': 'inline-block'}),\n",
    "            #----------\n",
    "\n",
    "            html.Div([\n",
    "                html.Div(\"To\", \n",
    "                             style={'width': '10%', \n",
    "                                    'height':'50%',\n",
    "                                    'display': 'block',\n",
    "                             }),\n",
    "                html.Div([\n",
    "                    dcc.Dropdown(\n",
    "                        id=\"entry-end-date-remove\",\n",
    "                        options=[{\"label\": str(i).zfill(2), \"value\": str(i).zfill(2)} for i in range(1, 32)],\n",
    "                        value=today_date,\n",
    "                        clearable=False\n",
    "                    ),\n",
    "                ], style={'width': '10%', 'display': 'inline-block'}),\n",
    "\n",
    "                html.Div([\n",
    "                    dcc.Dropdown(\n",
    "                        id=\"entry-end-month-remove\",\n",
    "                        options=[{\"label\": 'January'  , \"value\": '01'},\n",
    "                                 {\"label\": 'February' , \"value\": '02'},\n",
    "                                 {\"label\": 'March'    , \"value\": '03'},\n",
    "                                 {\"label\": 'April'    , \"value\": '04'},\n",
    "                                 {\"label\": 'May'      , \"value\": '05'},\n",
    "                                 {\"label\": 'June'     , \"value\": '06'},\n",
    "                                 {\"label\": 'July'     , \"value\": '07'},\n",
    "                                 {\"label\": 'August'   , \"value\": '08'},\n",
    "                                 {\"label\": 'September', \"value\": '09'},\n",
    "                                 {\"label\": 'October'  , \"value\": '10'},\n",
    "                                 {\"label\": 'November' , \"value\": '11'},\n",
    "                                 {\"label\": 'December' , \"value\": '12'}],\n",
    "                        value=today_month,\n",
    "                        clearable=False\n",
    "                    ),\n",
    "                ], style={'width': '18%', 'display': 'inline-block'}),\n",
    "\n",
    "                html.Div([\n",
    "                    dcc.Dropdown(\n",
    "                        id=\"entry-end-year-remove\",\n",
    "                        options=[{\"label\": i  , \"value\": i} for i in range(int(first_day_year), datetime.datetime.now().year+1)],\n",
    "                        value=first_day_year,\n",
    "                        clearable=False\n",
    "                    ),\n",
    "                ], style={'width': '10%', 'display': 'inline-block'})\n",
    "            ], style={'width': '50%', 'display': 'inline-block'}),\n",
    "\n",
    "\n",
    "            html.Br(),\n",
    "            dash_table.DataTable(\n",
    "                    id='entry-preview-table-remove',\n",
    "                    columns=[{\"name\": i, \"id\": i} for i in display_columns],\n",
    "                    editable=True,\n",
    "                    fixed_rows={'headers': True},\n",
    "                    style_table={'height': 400},\n",
    "                    style_cell={\n",
    "                        'minWidth': 80, 'maxWidth': 250, 'width': 80\n",
    "                    },\n",
    "                    row_deletable=True,\n",
    "               ),\n",
    "\n",
    "\n",
    "            html.Br(),\n",
    "\n",
    "            html.Button('Save to Database', id='entry-save-remove', n_clicks=0, style={'display':'block'}),\n",
    "            \n",
    "            html.Br(),\n",
    "        ])\n",
    "    \n",
    "\n",
    "app.run_server(mode='external', debug=True)"
   ]
  },
  {
   "cell_type": "code",
   "execution_count": 23,
   "id": "46ebd2ea",
   "metadata": {},
   "outputs": [],
   "source": [
    "# shutdown the server\n",
    "# app._terminate_server_for_port(\"localhost\", 8050)"
   ]
  },
  {
   "cell_type": "code",
   "execution_count": null,
   "id": "d1a30cc0",
   "metadata": {},
   "outputs": [],
   "source": []
  }
 ],
 "metadata": {
  "kernelspec": {
   "display_name": "Python 3 (ipykernel)",
   "language": "python",
   "name": "python3"
  },
  "language_info": {
   "codemirror_mode": {
    "name": "ipython",
    "version": 3
   },
   "file_extension": ".py",
   "mimetype": "text/x-python",
   "name": "python",
   "nbconvert_exporter": "python",
   "pygments_lexer": "ipython3",
   "version": "3.9.7"
  }
 },
 "nbformat": 4,
 "nbformat_minor": 5
}
